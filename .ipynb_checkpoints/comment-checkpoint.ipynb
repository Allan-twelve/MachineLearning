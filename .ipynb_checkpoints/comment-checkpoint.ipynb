{
 "cells": [
  {
   "cell_type": "markdown",
   "id": "c182af63-43cb-488b-852f-42a57cdd5507",
   "metadata": {},
   "source": [
    "## 数据集为外卖评论，分为好评和差评"
   ]
  },
  {
   "cell_type": "code",
   "execution_count": 1,
   "id": "3d32b5cb-72fa-4505-bb22-c4f57a57846f",
   "metadata": {},
   "outputs": [],
   "source": [
    "# 相关库引入\n",
    "import numpy as np\n",
    "import pandas as pd\n",
    "from sklearn.feature_extraction.text import CountVectorizer\n",
    "from NaiveBayes.classification import NB\n",
    "from sklearn.model_selection import train_test_split\n",
    "from DataSet_tools.score import accuracy"
   ]
  },
  {
   "cell_type": "markdown",
   "id": "82b0a914-4130-4901-b74d-68d308cd2868",
   "metadata": {},
   "source": [
    "### 数据读取"
   ]
  },
  {
   "cell_type": "code",
   "execution_count": 2,
   "id": "4523cf24-32b8-4a41-873c-1ee010e25bf3",
   "metadata": {},
   "outputs": [
    {
     "data": {
      "text/html": [
       "<div>\n",
       "<style scoped>\n",
       "    .dataframe tbody tr th:only-of-type {\n",
       "        vertical-align: middle;\n",
       "    }\n",
       "\n",
       "    .dataframe tbody tr th {\n",
       "        vertical-align: top;\n",
       "    }\n",
       "\n",
       "    .dataframe thead th {\n",
       "        text-align: right;\n",
       "    }\n",
       "</style>\n",
       "<table border=\"1\" class=\"dataframe\">\n",
       "  <thead>\n",
       "    <tr style=\"text-align: right;\">\n",
       "      <th></th>\n",
       "      <th>label</th>\n",
       "      <th>review</th>\n",
       "    </tr>\n",
       "  </thead>\n",
       "  <tbody>\n",
       "    <tr>\n",
       "      <th>0</th>\n",
       "      <td>1</td>\n",
       "      <td>很快，好吃，味道足，量大</td>\n",
       "    </tr>\n",
       "    <tr>\n",
       "      <th>1</th>\n",
       "      <td>1</td>\n",
       "      <td>非常快，态度好。</td>\n",
       "    </tr>\n",
       "    <tr>\n",
       "      <th>2</th>\n",
       "      <td>1</td>\n",
       "      <td>方便，快捷，味道可口，快递给力</td>\n",
       "    </tr>\n",
       "    <tr>\n",
       "      <th>3</th>\n",
       "      <td>1</td>\n",
       "      <td>菜味道很棒！送餐很及时！</td>\n",
       "    </tr>\n",
       "    <tr>\n",
       "      <th>4</th>\n",
       "      <td>1</td>\n",
       "      <td>送餐快,态度也特别好,辛苦啦谢谢</td>\n",
       "    </tr>\n",
       "    <tr>\n",
       "      <th>5</th>\n",
       "      <td>1</td>\n",
       "      <td>超级快就送到了，这么冷的天气骑士们辛苦了。谢谢你们。麻辣香锅依然很好吃。</td>\n",
       "    </tr>\n",
       "    <tr>\n",
       "      <th>6</th>\n",
       "      <td>1</td>\n",
       "      <td>经过上次晚了2小时，这次超级快，20分钟就送到了……</td>\n",
       "    </tr>\n",
       "    <tr>\n",
       "      <th>7</th>\n",
       "      <td>1</td>\n",
       "      <td>最后五分钟订的，卖家特别好接单了，谢谢。</td>\n",
       "    </tr>\n",
       "    <tr>\n",
       "      <th>8</th>\n",
       "      <td>1</td>\n",
       "      <td>量大，好吃，每次点的都够吃两次</td>\n",
       "    </tr>\n",
       "    <tr>\n",
       "      <th>9</th>\n",
       "      <td>1</td>\n",
       "      <td>挺辣的，吃着还可以吧</td>\n",
       "    </tr>\n",
       "  </tbody>\n",
       "</table>\n",
       "</div>"
      ],
      "text/plain": [
       "   label                                review\n",
       "0      1                          很快，好吃，味道足，量大\n",
       "1      1                              非常快，态度好。\n",
       "2      1                       方便，快捷，味道可口，快递给力\n",
       "3      1                          菜味道很棒！送餐很及时！\n",
       "4      1                      送餐快,态度也特别好,辛苦啦谢谢\n",
       "5      1  超级快就送到了，这么冷的天气骑士们辛苦了。谢谢你们。麻辣香锅依然很好吃。\n",
       "6      1            经过上次晚了2小时，这次超级快，20分钟就送到了……\n",
       "7      1                  最后五分钟订的，卖家特别好接单了，谢谢。\n",
       "8      1                       量大，好吃，每次点的都够吃两次\n",
       "9      1                            挺辣的，吃着还可以吧"
      ]
     },
     "execution_count": 2,
     "metadata": {},
     "output_type": "execute_result"
    }
   ],
   "source": [
    "data = pd.read_csv(\"Data/外卖评论.csv\")\n",
    "data.head(10)"
   ]
  },
  {
   "cell_type": "markdown",
   "id": "30348350-742a-4cc5-b695-d646b20c4f24",
   "metadata": {},
   "source": [
    "### 引入CountVectorizer进行分词和生成词频矩阵"
   ]
  },
  {
   "cell_type": "code",
   "execution_count": 3,
   "id": "52c99005-6a40-47c5-8a9f-ccff324816a1",
   "metadata": {},
   "outputs": [],
   "source": [
    "# 引用停用词库\n",
    "stop_words = pd.read_csv('Data/stop_word.csv')['stop'].values.tolist()\n",
    "cv = CountVectorizer(stop_words=stop_words, max_features=1000)"
   ]
  },
  {
   "cell_type": "code",
   "execution_count": 4,
   "id": "5fb9d62c-20fe-4cbe-aaf0-cd34da853699",
   "metadata": {},
   "outputs": [],
   "source": [
    "x = cv.fit_transform(data['review'].values.tolist()).toarray()"
   ]
  },
  {
   "cell_type": "code",
   "execution_count": 5,
   "id": "5e201196-20c3-4fed-a287-127a00fab1db",
   "metadata": {},
   "outputs": [],
   "source": [
    "y = data['label']"
   ]
  },
  {
   "cell_type": "markdown",
   "id": "eb713f7d-2f6b-4117-90d3-75e02a574bc3",
   "metadata": {},
   "source": [
    "### 训练集测试集划分"
   ]
  },
  {
   "cell_type": "code",
   "execution_count": 6,
   "id": "322e0b1c-ff79-4031-b568-eb406d444a29",
   "metadata": {},
   "outputs": [],
   "source": [
    "x_train, x_test, y_train, y_test = train_test_split(x, y, test_size=0.2)"
   ]
  },
  {
   "cell_type": "markdown",
   "id": "ff5067a6-9022-4d2e-9a5e-a2382af9d1e9",
   "metadata": {},
   "source": [
    "### 引入朴素贝叶斯分类器"
   ]
  },
  {
   "cell_type": "code",
   "execution_count": 7,
   "id": "de263400-5ab8-4dba-8ae6-ef6cb0274ce7",
   "metadata": {},
   "outputs": [],
   "source": [
    "nb = NB()\n",
    "nb.fit(x_train, y_train)"
   ]
  },
  {
   "cell_type": "code",
   "execution_count": 8,
   "id": "7b20827d-2408-4a0f-8597-3b01a8c1a610",
   "metadata": {},
   "outputs": [
    {
     "data": {
      "text/plain": [
       "0.7951606174384648"
      ]
     },
     "execution_count": 8,
     "metadata": {},
     "output_type": "execute_result"
    }
   ],
   "source": [
    "y_pre = nb.predict(x_test)\n",
    "accuracy(y_test, y_pre)"
   ]
  },
  {
   "cell_type": "code",
   "execution_count": null,
   "id": "895eeac7-0950-4d58-8088-39541dc8e439",
   "metadata": {},
   "outputs": [],
   "source": []
  }
 ],
 "metadata": {
  "kernelspec": {
   "display_name": "machinelearning",
   "language": "python",
   "name": "machinelearning"
  },
  "language_info": {
   "codemirror_mode": {
    "name": "ipython",
    "version": 3
   },
   "file_extension": ".py",
   "mimetype": "text/x-python",
   "name": "python",
   "nbconvert_exporter": "python",
   "pygments_lexer": "ipython3",
   "version": "3.8.4"
  }
 },
 "nbformat": 4,
 "nbformat_minor": 5
}
