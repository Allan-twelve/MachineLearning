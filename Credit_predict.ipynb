{
 "cells": [
  {
   "cell_type": "markdown",
   "id": "767b749a",
   "metadata": {},
   "source": [
    "## 银行信用预测"
   ]
  },
  {
   "cell_type": "markdown",
   "id": "8a5f32a2",
   "metadata": {},
   "source": [
    "### 相关包引入"
   ]
  },
  {
   "cell_type": "code",
   "execution_count": 1,
   "id": "e831d51a-583f-40ec-8879-23a7dc124c8e",
   "metadata": {
    "tags": []
   },
   "outputs": [],
   "source": [
    "# 引入第三方库\n",
    "import numpy as np\n",
    "import pandas as pd\n",
    "import matplotlib.pyplot as plt\n",
    "# 引入数据分析库\n",
    "from DataSet_tools.data_processing import PreProcessing\n",
    "from DataSet_tools.data_split import train_test_split, cross_validation\n",
    "from DataSet_tools.score import accuracy, ROC, PR, F1score\n",
    "# 引入逻辑回归模型\n",
    "from LogisticRegression.LR import LogisticRegression\n",
    "# 引入k近邻模型\n",
    "from K_nearestNeighbors.Classification import KNN\n",
    "# 引入决策树模型\n",
    "from DecisionTree.classfication import DecisionTree\n",
    "\n",
    "%matplotlib inline"
   ]
  },
  {
   "cell_type": "markdown",
   "id": "258d0dd0",
   "metadata": {},
   "source": [
    "### 数据读取， 设置绘图风格， 引入数据预处理库"
   ]
  },
  {
   "cell_type": "code",
   "execution_count": 2,
   "id": "06487b52",
   "metadata": {},
   "outputs": [],
   "source": [
    "plt.style.use('seaborn')\n",
    "data = pd.read_csv('Data/GiveMeSomeCredit/cs-training.csv')\n",
    "pp = PreProcessing()"
   ]
  },
  {
   "cell_type": "markdown",
   "id": "639d760d-896c-4aa3-8715-4e0419a309e9",
   "metadata": {},
   "source": [
    "### 数据展示"
   ]
  },
  {
   "cell_type": "code",
   "execution_count": 3,
   "id": "9631d018",
   "metadata": {},
   "outputs": [
    {
     "data": {
      "text/html": [
       "<div>\n",
       "<style scoped>\n",
       "    .dataframe tbody tr th:only-of-type {\n",
       "        vertical-align: middle;\n",
       "    }\n",
       "\n",
       "    .dataframe tbody tr th {\n",
       "        vertical-align: top;\n",
       "    }\n",
       "\n",
       "    .dataframe thead th {\n",
       "        text-align: right;\n",
       "    }\n",
       "</style>\n",
       "<table border=\"1\" class=\"dataframe\">\n",
       "  <thead>\n",
       "    <tr style=\"text-align: right;\">\n",
       "      <th></th>\n",
       "      <th>Unnamed: 0</th>\n",
       "      <th>SeriousDlqin2yrs</th>\n",
       "      <th>RevolvingUtilizationOfUnsecuredLines</th>\n",
       "      <th>age</th>\n",
       "      <th>NumberOfTime30-59DaysPastDueNotWorse</th>\n",
       "      <th>DebtRatio</th>\n",
       "      <th>MonthlyIncome</th>\n",
       "      <th>NumberOfOpenCreditLinesAndLoans</th>\n",
       "      <th>NumberOfTimes90DaysLate</th>\n",
       "      <th>NumberRealEstateLoansOrLines</th>\n",
       "      <th>NumberOfTime60-89DaysPastDueNotWorse</th>\n",
       "      <th>NumberOfDependents</th>\n",
       "    </tr>\n",
       "  </thead>\n",
       "  <tbody>\n",
       "    <tr>\n",
       "      <th>0</th>\n",
       "      <td>1</td>\n",
       "      <td>1</td>\n",
       "      <td>0.766127</td>\n",
       "      <td>45</td>\n",
       "      <td>2</td>\n",
       "      <td>0.802982</td>\n",
       "      <td>9120.0</td>\n",
       "      <td>13</td>\n",
       "      <td>0</td>\n",
       "      <td>6</td>\n",
       "      <td>0</td>\n",
       "      <td>2.0</td>\n",
       "    </tr>\n",
       "    <tr>\n",
       "      <th>1</th>\n",
       "      <td>2</td>\n",
       "      <td>0</td>\n",
       "      <td>0.957151</td>\n",
       "      <td>40</td>\n",
       "      <td>0</td>\n",
       "      <td>0.121876</td>\n",
       "      <td>2600.0</td>\n",
       "      <td>4</td>\n",
       "      <td>0</td>\n",
       "      <td>0</td>\n",
       "      <td>0</td>\n",
       "      <td>1.0</td>\n",
       "    </tr>\n",
       "    <tr>\n",
       "      <th>2</th>\n",
       "      <td>3</td>\n",
       "      <td>0</td>\n",
       "      <td>0.658180</td>\n",
       "      <td>38</td>\n",
       "      <td>1</td>\n",
       "      <td>0.085113</td>\n",
       "      <td>3042.0</td>\n",
       "      <td>2</td>\n",
       "      <td>1</td>\n",
       "      <td>0</td>\n",
       "      <td>0</td>\n",
       "      <td>0.0</td>\n",
       "    </tr>\n",
       "    <tr>\n",
       "      <th>3</th>\n",
       "      <td>4</td>\n",
       "      <td>0</td>\n",
       "      <td>0.233810</td>\n",
       "      <td>30</td>\n",
       "      <td>0</td>\n",
       "      <td>0.036050</td>\n",
       "      <td>3300.0</td>\n",
       "      <td>5</td>\n",
       "      <td>0</td>\n",
       "      <td>0</td>\n",
       "      <td>0</td>\n",
       "      <td>0.0</td>\n",
       "    </tr>\n",
       "    <tr>\n",
       "      <th>4</th>\n",
       "      <td>5</td>\n",
       "      <td>0</td>\n",
       "      <td>0.907239</td>\n",
       "      <td>49</td>\n",
       "      <td>1</td>\n",
       "      <td>0.024926</td>\n",
       "      <td>63588.0</td>\n",
       "      <td>7</td>\n",
       "      <td>0</td>\n",
       "      <td>1</td>\n",
       "      <td>0</td>\n",
       "      <td>0.0</td>\n",
       "    </tr>\n",
       "  </tbody>\n",
       "</table>\n",
       "</div>"
      ],
      "text/plain": [
       "   Unnamed: 0  SeriousDlqin2yrs  RevolvingUtilizationOfUnsecuredLines  age  \\\n",
       "0           1                 1                              0.766127   45   \n",
       "1           2                 0                              0.957151   40   \n",
       "2           3                 0                              0.658180   38   \n",
       "3           4                 0                              0.233810   30   \n",
       "4           5                 0                              0.907239   49   \n",
       "\n",
       "   NumberOfTime30-59DaysPastDueNotWorse  DebtRatio  MonthlyIncome  \\\n",
       "0                                     2   0.802982         9120.0   \n",
       "1                                     0   0.121876         2600.0   \n",
       "2                                     1   0.085113         3042.0   \n",
       "3                                     0   0.036050         3300.0   \n",
       "4                                     1   0.024926        63588.0   \n",
       "\n",
       "   NumberOfOpenCreditLinesAndLoans  NumberOfTimes90DaysLate  \\\n",
       "0                               13                        0   \n",
       "1                                4                        0   \n",
       "2                                2                        1   \n",
       "3                                5                        0   \n",
       "4                                7                        0   \n",
       "\n",
       "   NumberRealEstateLoansOrLines  NumberOfTime60-89DaysPastDueNotWorse  \\\n",
       "0                             6                                     0   \n",
       "1                             0                                     0   \n",
       "2                             0                                     0   \n",
       "3                             0                                     0   \n",
       "4                             1                                     0   \n",
       "\n",
       "   NumberOfDependents  \n",
       "0                 2.0  \n",
       "1                 1.0  \n",
       "2                 0.0  \n",
       "3                 0.0  \n",
       "4                 0.0  "
      ]
     },
     "execution_count": 3,
     "metadata": {},
     "output_type": "execute_result"
    }
   ],
   "source": [
    "data.head()"
   ]
  },
  {
   "cell_type": "markdown",
   "id": "873f350e-4609-4390-9ecf-fe64b658653d",
   "metadata": {},
   "source": [
    "### 删去编号列后，检测缺失值"
   ]
  },
  {
   "cell_type": "code",
   "execution_count": 4,
   "id": "715ad24c",
   "metadata": {},
   "outputs": [
    {
     "data": {
      "text/plain": [
       "SeriousDlqin2yrs                            0\n",
       "RevolvingUtilizationOfUnsecuredLines        0\n",
       "age                                         0\n",
       "NumberOfTime30-59DaysPastDueNotWorse        0\n",
       "DebtRatio                                   0\n",
       "MonthlyIncome                           29731\n",
       "NumberOfOpenCreditLinesAndLoans             0\n",
       "NumberOfTimes90DaysLate                     0\n",
       "NumberRealEstateLoansOrLines                0\n",
       "NumberOfTime60-89DaysPastDueNotWorse        0\n",
       "NumberOfDependents                       3924\n",
       "dtype: int64"
      ]
     },
     "execution_count": 4,
     "metadata": {},
     "output_type": "execute_result"
    }
   ],
   "source": [
    "data = data.drop(['Unnamed: 0'], axis=1)\n",
    "data.isnull().sum()"
   ]
  },
  {
   "cell_type": "markdown",
   "id": "446cb505",
   "metadata": {},
   "source": [
    "### 因为缺失值较多，且不缺乏训练数据，所以删除全部缺失值所在行"
   ]
  },
  {
   "cell_type": "code",
   "execution_count": 5,
   "id": "c0a62409",
   "metadata": {},
   "outputs": [],
   "source": [
    "data = data.dropna(axis=0)"
   ]
  },
  {
   "cell_type": "markdown",
   "id": "3f74bfc2-3dd4-48c9-93f5-52b232b4d5be",
   "metadata": {},
   "source": [
    "### 判断是否还有缺失值"
   ]
  },
  {
   "cell_type": "code",
   "execution_count": 6,
   "id": "6b761959",
   "metadata": {},
   "outputs": [
    {
     "data": {
      "text/plain": [
       "0"
      ]
     },
     "execution_count": 6,
     "metadata": {},
     "output_type": "execute_result"
    }
   ],
   "source": [
    "data.isnull().sum().sum()"
   ]
  },
  {
   "cell_type": "markdown",
   "id": "053962d5-699d-4e31-bdaa-9b384d8ae29d",
   "metadata": {},
   "source": [
    "### 将分类结果放到最后一列"
   ]
  },
  {
   "cell_type": "code",
   "execution_count": 7,
   "id": "1ca2b58a-37ec-430d-8194-bbd0f4fa88c9",
   "metadata": {},
   "outputs": [],
   "source": [
    "y = data['SeriousDlqin2yrs']\n",
    "x = data.drop(['SeriousDlqin2yrs'], axis=1)\n",
    "data = pd.concat([x, y], axis=1)"
   ]
  },
  {
   "cell_type": "markdown",
   "id": "01d6a4a9-eb17-4f82-aa11-0fe6285cf884",
   "metadata": {},
   "source": [
    "### 用箱线图查看异常值"
   ]
  },
  {
   "cell_type": "code",
   "execution_count": 8,
   "id": "74bb5f13",
   "metadata": {},
   "outputs": [
    {
     "data": {
      "image/png": "[encoded data removed]",
      "text/plain": [
       "<Figure size 1080x720 with 10 Axes>"
      ]
     },
     "metadata": {},
     "output_type": "display_data"
    }
   ],
   "source": [
    "index = data.columns\n",
    "fig = plt.figure(figsize=(15, 10))\n",
    "for i in range(10):\n",
    "    ax = fig.add_subplot(2, 5, i+1)\n",
    "    ax.boxplot(data[index[i]], sym='rx', widths=0.6, showmeans=True)\n",
    "    ax.set_title(index[i])\n",
    "fig.tight_layout()"
   ]
  },
  {
   "cell_type": "markdown",
   "id": "3f1cf267",
   "metadata": {},
   "source": [
    "### 有几个特征0值占比过大，导致数据清理后会只剩0，这里选择进行手动清理"
   ]
  },
  {
   "cell_type": "code",
   "execution_count": 9,
   "id": "99e68463",
   "metadata": {},
   "outputs": [],
   "source": [
    "# 处理其他列的缺失值\n",
    "data = pp.Clean(data, column=[2, 6, 8, 10])\n",
    "# 手动清理\n",
    "new = data.iloc[:, 2].copy()\n",
    "new[new > 40] = 0\n",
    "data.iloc[:, 2] = new\n",
    "new = data.iloc[:, 6].copy()\n",
    "new[new > 40] = 0\n",
    "data.iloc[:, 6] = new\n",
    "new = data.iloc[:, 8].copy()\n",
    "new[new > 40] = 0\n",
    "data.iloc[:, 8] = new"
   ]
  },
  {
   "cell_type": "markdown",
   "id": "4006f3d0-0b96-4871-ba47-bb7c295c8e60",
   "metadata": {},
   "source": [
    "### 再次查看箱线图"
   ]
  },
  {
   "cell_type": "code",
   "execution_count": 10,
   "id": "d7778531",
   "metadata": {},
   "outputs": [
    {
     "data": {
      "image/png": "[encoded data removed]",
      "text/plain": [
       "<Figure size 1080x720 with 10 Axes>"
      ]
     },
     "metadata": {},
     "output_type": "display_data"
    }
   ],
   "source": [
    "index = data.columns\n",
    "fig = plt.figure(figsize=(15, 10))\n",
    "for i in range(10):\n",
    "    ax = fig.add_subplot(2, 5, i+1)\n",
    "    ax.boxplot(data[index[i]], sym='rx', widths=0.6, showmeans=True)\n",
    "    ax.set_title(index[i])\n",
    "fig.tight_layout()"
   ]
  },
  {
   "cell_type": "markdown",
   "id": "63235070-000a-43aa-b50c-4be3b25a1951",
   "metadata": {},
   "source": [
    "### 可见异常值得到了有效的清理"
   ]
  },
  {
   "cell_type": "markdown",
   "id": "92f72413-2f2e-4ff4-aad1-50b83efafae5",
   "metadata": {},
   "source": [
    "### 分析数据"
   ]
  },
  {
   "cell_type": "code",
   "execution_count": 11,
   "id": "ef3fee92-19a6-4c5f-8450-89a15213f57e",
   "metadata": {},
   "outputs": [
    {
     "data": {
      "text/html": [
       "<div>\n",
       "<style scoped>\n",
       "    .dataframe tbody tr th:only-of-type {\n",
       "        vertical-align: middle;\n",
       "    }\n",
       "\n",
       "    .dataframe tbody tr th {\n",
       "        vertical-align: top;\n",
       "    }\n",
       "\n",
       "    .dataframe thead th {\n",
       "        text-align: right;\n",
       "    }\n",
       "</style>\n",
       "<table border=\"1\" class=\"dataframe\">\n",
       "  <thead>\n",
       "    <tr style=\"text-align: right;\">\n",
       "      <th></th>\n",
       "      <th>RevolvingUtilizationOfUnsecuredLines</th>\n",
       "      <th>age</th>\n",
       "      <th>NumberOfTime30-59DaysPastDueNotWorse</th>\n",
       "      <th>DebtRatio</th>\n",
       "      <th>MonthlyIncome</th>\n",
       "      <th>NumberOfOpenCreditLinesAndLoans</th>\n",
       "      <th>NumberOfTimes90DaysLate</th>\n",
       "      <th>NumberRealEstateLoansOrLines</th>\n",
       "      <th>NumberOfTime60-89DaysPastDueNotWorse</th>\n",
       "      <th>NumberOfDependents</th>\n",
       "      <th>SeriousDlqin2yrs</th>\n",
       "    </tr>\n",
       "  </thead>\n",
       "  <tbody>\n",
       "    <tr>\n",
       "      <th>0</th>\n",
       "      <td>0.766127</td>\n",
       "      <td>45</td>\n",
       "      <td>2</td>\n",
       "      <td>0.802982</td>\n",
       "      <td>9120.0</td>\n",
       "      <td>13</td>\n",
       "      <td>0</td>\n",
       "      <td>1</td>\n",
       "      <td>0</td>\n",
       "      <td>2.0</td>\n",
       "      <td>1</td>\n",
       "    </tr>\n",
       "    <tr>\n",
       "      <th>1</th>\n",
       "      <td>0.957151</td>\n",
       "      <td>40</td>\n",
       "      <td>0</td>\n",
       "      <td>0.121876</td>\n",
       "      <td>2600.0</td>\n",
       "      <td>4</td>\n",
       "      <td>0</td>\n",
       "      <td>0</td>\n",
       "      <td>0</td>\n",
       "      <td>1.0</td>\n",
       "      <td>0</td>\n",
       "    </tr>\n",
       "    <tr>\n",
       "      <th>2</th>\n",
       "      <td>0.658180</td>\n",
       "      <td>38</td>\n",
       "      <td>1</td>\n",
       "      <td>0.085113</td>\n",
       "      <td>3042.0</td>\n",
       "      <td>2</td>\n",
       "      <td>1</td>\n",
       "      <td>0</td>\n",
       "      <td>0</td>\n",
       "      <td>0.0</td>\n",
       "      <td>0</td>\n",
       "    </tr>\n",
       "    <tr>\n",
       "      <th>3</th>\n",
       "      <td>0.233810</td>\n",
       "      <td>30</td>\n",
       "      <td>0</td>\n",
       "      <td>0.036050</td>\n",
       "      <td>3300.0</td>\n",
       "      <td>5</td>\n",
       "      <td>0</td>\n",
       "      <td>0</td>\n",
       "      <td>0</td>\n",
       "      <td>0.0</td>\n",
       "      <td>0</td>\n",
       "    </tr>\n",
       "    <tr>\n",
       "      <th>4</th>\n",
       "      <td>0.907239</td>\n",
       "      <td>49</td>\n",
       "      <td>1</td>\n",
       "      <td>0.024926</td>\n",
       "      <td>5400.0</td>\n",
       "      <td>7</td>\n",
       "      <td>0</td>\n",
       "      <td>1</td>\n",
       "      <td>0</td>\n",
       "      <td>0.0</td>\n",
       "      <td>0</td>\n",
       "    </tr>\n",
       "    <tr>\n",
       "      <th>5</th>\n",
       "      <td>0.213179</td>\n",
       "      <td>74</td>\n",
       "      <td>0</td>\n",
       "      <td>0.375607</td>\n",
       "      <td>3500.0</td>\n",
       "      <td>3</td>\n",
       "      <td>0</td>\n",
       "      <td>1</td>\n",
       "      <td>0</td>\n",
       "      <td>1.0</td>\n",
       "      <td>0</td>\n",
       "    </tr>\n",
       "    <tr>\n",
       "      <th>7</th>\n",
       "      <td>0.754464</td>\n",
       "      <td>39</td>\n",
       "      <td>0</td>\n",
       "      <td>0.209940</td>\n",
       "      <td>3500.0</td>\n",
       "      <td>8</td>\n",
       "      <td>0</td>\n",
       "      <td>0</td>\n",
       "      <td>0</td>\n",
       "      <td>0.0</td>\n",
       "      <td>0</td>\n",
       "    </tr>\n",
       "    <tr>\n",
       "      <th>9</th>\n",
       "      <td>0.189169</td>\n",
       "      <td>57</td>\n",
       "      <td>0</td>\n",
       "      <td>0.606291</td>\n",
       "      <td>5400.0</td>\n",
       "      <td>9</td>\n",
       "      <td>0</td>\n",
       "      <td>4</td>\n",
       "      <td>0</td>\n",
       "      <td>2.0</td>\n",
       "      <td>0</td>\n",
       "    </tr>\n",
       "    <tr>\n",
       "      <th>10</th>\n",
       "      <td>0.644226</td>\n",
       "      <td>30</td>\n",
       "      <td>0</td>\n",
       "      <td>0.309476</td>\n",
       "      <td>2500.0</td>\n",
       "      <td>5</td>\n",
       "      <td>0</td>\n",
       "      <td>0</td>\n",
       "      <td>0</td>\n",
       "      <td>0.0</td>\n",
       "      <td>0</td>\n",
       "    </tr>\n",
       "    <tr>\n",
       "      <th>11</th>\n",
       "      <td>0.018798</td>\n",
       "      <td>51</td>\n",
       "      <td>0</td>\n",
       "      <td>0.531529</td>\n",
       "      <td>6501.0</td>\n",
       "      <td>7</td>\n",
       "      <td>0</td>\n",
       "      <td>2</td>\n",
       "      <td>0</td>\n",
       "      <td>2.0</td>\n",
       "      <td>0</td>\n",
       "    </tr>\n",
       "  </tbody>\n",
       "</table>\n",
       "</div>"
      ],
      "text/plain": [
       "    RevolvingUtilizationOfUnsecuredLines  age  \\\n",
       "0                               0.766127   45   \n",
       "1                               0.957151   40   \n",
       "2                               0.658180   38   \n",
       "3                               0.233810   30   \n",
       "4                               0.907239   49   \n",
       "5                               0.213179   74   \n",
       "7                               0.754464   39   \n",
       "9                               0.189169   57   \n",
       "10                              0.644226   30   \n",
       "11                              0.018798   51   \n",
       "\n",
       "    NumberOfTime30-59DaysPastDueNotWorse  DebtRatio  MonthlyIncome  \\\n",
       "0                                      2   0.802982         9120.0   \n",
       "1                                      0   0.121876         2600.0   \n",
       "2                                      1   0.085113         3042.0   \n",
       "3                                      0   0.036050         3300.0   \n",
       "4                                      1   0.024926         5400.0   \n",
       "5                                      0   0.375607         3500.0   \n",
       "7                                      0   0.209940         3500.0   \n",
       "9                                      0   0.606291         5400.0   \n",
       "10                                     0   0.309476         2500.0   \n",
       "11                                     0   0.531529         6501.0   \n",
       "\n",
       "    NumberOfOpenCreditLinesAndLoans  NumberOfTimes90DaysLate  \\\n",
       "0                                13                        0   \n",
       "1                                 4                        0   \n",
       "2                                 2                        1   \n",
       "3                                 5                        0   \n",
       "4                                 7                        0   \n",
       "5                                 3                        0   \n",
       "7                                 8                        0   \n",
       "9                                 9                        0   \n",
       "10                                5                        0   \n",
       "11                                7                        0   \n",
       "\n",
       "    NumberRealEstateLoansOrLines  NumberOfTime60-89DaysPastDueNotWorse  \\\n",
       "0                              1                                     0   \n",
       "1                              0                                     0   \n",
       "2                              0                                     0   \n",
       "3                              0                                     0   \n",
       "4                              1                                     0   \n",
       "5                              1                                     0   \n",
       "7                              0                                     0   \n",
       "9                              4                                     0   \n",
       "10                             0                                     0   \n",
       "11                             2                                     0   \n",
       "\n",
       "    NumberOfDependents  SeriousDlqin2yrs  \n",
       "0                  2.0                 1  \n",
       "1                  1.0                 0  \n",
       "2                  0.0                 0  \n",
       "3                  0.0                 0  \n",
       "4                  0.0                 0  \n",
       "5                  1.0                 0  \n",
       "7                  0.0                 0  \n",
       "9                  2.0                 0  \n",
       "10                 0.0                 0  \n",
       "11                 2.0                 0  "
      ]
     },
     "execution_count": 11,
     "metadata": {},
     "output_type": "execute_result"
    }
   ],
   "source": [
    "data.head(10)"
   ]
  },
  {
   "cell_type": "markdown",
   "id": "740bd9ca-591d-413c-b8f4-642483f7d60a",
   "metadata": {},
   "source": [
    "### 绘制分布区间直方图,了解数据分布情况"
   ]
  },
  {
   "cell_type": "code",
   "execution_count": 12,
   "id": "eca0d4e8-23ae-45c1-8371-ffb28da226cc",
   "metadata": {},
   "outputs": [
    {
     "data": {
      "image/png": "[encoded data removed]",
      "text/plain": [
       "<Figure size 1080x504 with 10 Axes>"
      ]
     },
     "metadata": {},
     "output_type": "display_data"
    }
   ],
   "source": [
    "index = data.columns\n",
    "fig = plt.figure(figsize=(15, 7))\n",
    "for i in range(10):\n",
    "    ax = fig.add_subplot(2, 5, i+1)\n",
    "    if i % 2 == 0:\n",
    "        ax.hist(data[index[i]], color='skyblue', edgecolor='white')\n",
    "    else:\n",
    "        ax.hist(data[index[i]], color='lightpink', edgecolor='white')\n",
    "    ax.set_title(index[i])\n",
    "fig.tight_layout()"
   ]
  },
  {
   "cell_type": "markdown",
   "id": "e882457b-44ae-40b8-9f99-1c364e603c92",
   "metadata": {},
   "source": [
    "#### 可见大部分数据都存在左偏情况"
   ]
  },
  {
   "cell_type": "markdown",
   "id": "40c259c3-f46f-4015-b75d-752e979938fe",
   "metadata": {},
   "source": [
    "### 查看肯德尔系数"
   ]
  },
  {
   "cell_type": "code",
   "execution_count": 13,
   "id": "fe58c259",
   "metadata": {},
   "outputs": [
    {
     "name": "stderr",
     "output_type": "stream",
     "text": [
      "D:\\anaconda\\envs\\ml\\lib\\site-packages\\scipy\\stats\\stats.py:4594: RuntimeWarning: overflow encountered in longlong_scalars\n",
      "  (2 * xtie * ytie) / m + x0 * y0 / (9 * m * (size - 2)))\n"
     ]
    },
    {
     "data": {
      "text/plain": [
       "RevolvingUtilizationOfUnsecuredLines    0.188569\n",
       "age                                    -0.085476\n",
       "NumberOfTime30-59DaysPastDueNotWorse    0.240941\n",
       "DebtRatio                               0.037601\n",
       "MonthlyIncome                          -0.053690\n",
       "NumberOfOpenCreditLinesAndLoans        -0.031044\n",
       "NumberOfTimes90DaysLate                 0.323880\n",
       "NumberRealEstateLoansOrLines           -0.033286\n",
       "NumberOfTime60-89DaysPastDueNotWorse    0.258290\n",
       "NumberOfDependents                      0.043102\n",
       "SeriousDlqin2yrs                        1.000000\n",
       "Name: SeriousDlqin2yrs, dtype: float64"
      ]
     },
     "execution_count": 13,
     "metadata": {},
     "output_type": "execute_result"
    }
   ],
   "source": [
    "dt_corr = data.corr(method='kendall')\n",
    "corr = dt_corr['SeriousDlqin2yrs']\n",
    "corr"
   ]
  },
  {
   "cell_type": "markdown",
   "id": "87598cbf-68e7-412e-a80a-2a46ad15b5f5",
   "metadata": {},
   "source": [
    "### 画出热力图"
   ]
  },
  {
   "cell_type": "code",
   "execution_count": 14,
   "id": "d2b6763b-2a82-4f11-9edc-9ceca5edac60",
   "metadata": {},
   "outputs": [
    {
     "data": {
      "text/plain": [
       "<matplotlib.colorbar.Colorbar at 0x21108eb1640>"
      ]
     },
     "execution_count": 14,
     "metadata": {},
     "output_type": "execute_result"
    },
    {
     "data": {
      "image/png": "[encoded data removed]",
      "text/plain": [
       "<Figure size 576x576 with 2 Axes>"
      ]
     },
     "metadata": {},
     "output_type": "display_data"
    }
   ],
   "source": [
    "ind = data.columns\n",
    "fig = plt.figure(figsize=(8, 8))\n",
    "ax = plt.axes()\n",
    "ax.set_xticks(range(11))\n",
    "ax.set_yticks(range(11))\n",
    "ax.set_xticklabels(ind, rotation=90)\n",
    "ax.set_yticklabels(ind)\n",
    "map = ax.imshow(dt_corr, cmap='rainbow')\n",
    "fig.colorbar(map)"
   ]
  },
  {
   "cell_type": "markdown",
   "id": "fc251360-add3-4102-bb55-31f8b18abdf5",
   "metadata": {},
   "source": [
    "### 选择肯德尔系数大于0.1的特征"
   ]
  },
  {
   "cell_type": "code",
   "execution_count": 15,
   "id": "6441d2b1",
   "metadata": {},
   "outputs": [
    {
     "data": {
      "text/plain": [
       "RevolvingUtilizationOfUnsecuredLines    0.188569\n",
       "NumberOfTime30-59DaysPastDueNotWorse    0.240941\n",
       "NumberOfTimes90DaysLate                 0.323880\n",
       "NumberOfTime60-89DaysPastDueNotWorse    0.258290\n",
       "SeriousDlqin2yrs                        1.000000\n",
       "Name: SeriousDlqin2yrs, dtype: float64"
      ]
     },
     "execution_count": 15,
     "metadata": {},
     "output_type": "execute_result"
    }
   ],
   "source": [
    "c = corr[np.abs(corr) > 0.1]\n",
    "c"
   ]
  },
  {
   "cell_type": "markdown",
   "id": "ab882326-6bdd-4223-b898-976284bf8051",
   "metadata": {},
   "source": [
    "## 训练模型"
   ]
  },
  {
   "cell_type": "markdown",
   "id": "51d3eb56",
   "metadata": {},
   "source": [
    "### 分割数据集为训练集和测试集"
   ]
  },
  {
   "cell_type": "code",
   "execution_count": 16,
   "id": "1c8db852",
   "metadata": {},
   "outputs": [],
   "source": [
    "dt = data[c.index].copy()\n",
    "y = dt[['SeriousDlqin2yrs']]\n",
    "x = dt[c.index].drop(['SeriousDlqin2yrs'], axis=1)\n",
    "# 随机分割\n",
    "x_train, y_train, x_test, y_test = train_test_split(x, y, 0.3)"
   ]
  },
  {
   "cell_type": "markdown",
   "id": "ff7296fe",
   "metadata": {},
   "source": [
    "### 选取合适的特征值，并引入测试集"
   ]
  },
  {
   "cell_type": "markdown",
   "id": "095c7fa5",
   "metadata": {},
   "source": [
    "## 此处进行三种处理\n",
    "- 逻辑回归\n",
    "- K近邻\n",
    "- 决策树"
   ]
  },
  {
   "cell_type": "markdown",
   "id": "4ebf9e78",
   "metadata": {},
   "source": [
    "# 逻辑回归"
   ]
  },
  {
   "cell_type": "code",
   "execution_count": 17,
   "id": "f4aed56f",
   "metadata": {},
   "outputs": [],
   "source": [
    "# 参数设置\n",
    "lr = LogisticRegression(alpha=10, cycle=10)"
   ]
  },
  {
   "cell_type": "code",
   "execution_count": 18,
   "id": "b3b8b0b3",
   "metadata": {},
   "outputs": [],
   "source": [
    "# 数据拟合和预测\n",
    "lr.fit(x_train, y_train)\n",
    "lr_pre = lr.predict(x_test)"
   ]
  },
  {
   "cell_type": "code",
   "execution_count": 19,
   "id": "7eadcec4",
   "metadata": {},
   "outputs": [
    {
     "name": "stdout",
     "output_type": "stream",
     "text": [
      "logistic_accuracy: 0.9324833702882483\n",
      "logistic_f1_score: 0.2814159292035398\n"
     ]
    }
   ],
   "source": [
    "# 模型评估\n",
    "lr_a = accuracy(y_test, lr_pre)\n",
    "lr_f = F1score(y_test, lr_pre)\n",
    "print('logistic_accuracy:', lr_a)\n",
    "print('logistic_f1_score:', lr_f)"
   ]
  },
  {
   "cell_type": "markdown",
   "id": "5d89f8aa-a389-4d20-b004-4c163152be85",
   "metadata": {},
   "source": [
    "### 画出pr曲线和roc曲线"
   ]
  },
  {
   "cell_type": "code",
   "execution_count": 20,
   "id": "01991461-bfc6-461e-b88d-4af502773ebc",
   "metadata": {},
   "outputs": [
    {
     "data": {
      "text/plain": [
       "[Text(0.5, 1.0, 'ROC curve'), Text(0.5, 0, 'FPR'), Text(0, 0.5, 'TPR')]"
      ]
     },
     "execution_count": 20,
     "metadata": {},
     "output_type": "execute_result"
    },
    {
     "data": {
      "image/png": "[encoded data removed]",
      "text/plain": [
       "<Figure size 576x396 with 2 Axes>"
      ]
     },
     "metadata": {},
     "output_type": "display_data"
    }
   ],
   "source": [
    "# 图可能画的有点问题\n",
    "precise1, recall1 = PR(y_test[:1000], lr_pre[:1000])\n",
    "FPR1, TPR1 = ROC(y_test[:1000], lr_pre[:1000])\n",
    "fig = plt.figure()\n",
    "ax = fig.add_subplot(1, 2, 1)\n",
    "ax.plot(recall1, precise1)\n",
    "ax.set(title='P-R curve', xlabel='recall', ylabel='precise')\n",
    "ax = fig.add_subplot(1, 2, 2)\n",
    "ax.plot(FPR1, TPR1)\n",
    "ax.set(title='ROC curve', xlabel='FPR', ylabel='TPR')"
   ]
  },
  {
   "cell_type": "code",
   "execution_count": 21,
   "id": "e63184a4",
   "metadata": {},
   "outputs": [
    {
     "data": {
      "text/plain": [
       "0.9345283179570538"
      ]
     },
     "execution_count": 21,
     "metadata": {},
     "output_type": "execute_result"
    }
   ],
   "source": [
    "# 十次交叉验证\n",
    "cross_validation(x_train, y_train, lr, accuracy, k=10)"
   ]
  },
  {
   "cell_type": "markdown",
   "id": "9d32dc12-567d-48d3-af67-6174408f23ef",
   "metadata": {},
   "source": [
    "### sklearn对比"
   ]
  },
  {
   "cell_type": "code",
   "execution_count": 22,
   "id": "22b693fc-fe67-48f5-8661-460d23121fac",
   "metadata": {},
   "outputs": [],
   "source": [
    "from sklearn import linear_model\n",
    "from sklearn.metrics import accuracy_score, f1_score, precision_recall_curve, roc_curve"
   ]
  },
  {
   "cell_type": "code",
   "execution_count": 23,
   "id": "b9e74c53-cf23-4856-881b-02dc63242d14",
   "metadata": {},
   "outputs": [],
   "source": [
    "# 训练模型\n",
    "sk_lr = linear_model.LogisticRegression()\n",
    "sk_lr.fit(x_train, np.squeeze(y_train))\n",
    "sk_pre = sk_lr.predict(x_test)"
   ]
  },
  {
   "cell_type": "code",
   "execution_count": 24,
   "id": "f913d57d-bc53-44b2-b7fe-76f5e55fed1f",
   "metadata": {},
   "outputs": [
    {
     "name": "stdout",
     "output_type": "stream",
     "text": [
      "logistic_accuracy: 0.9325110864745011\n",
      "logistic_f1_score: 0.2411966344655656\n"
     ]
    }
   ],
   "source": [
    "# sklearn模型评估\n",
    "sk_a = accuracy_score(y_test, sk_pre)\n",
    "sk_f = f1_score(y_test, sk_pre)\n",
    "print('logistic_accuracy:', sk_a)\n",
    "print('logistic_f1_score:', sk_f)"
   ]
  },
  {
   "cell_type": "code",
   "execution_count": 25,
   "id": "94a769d3-f49c-42e9-a93a-18b4f61d30af",
   "metadata": {},
   "outputs": [
    {
     "data": {
      "text/plain": [
       "[Text(0.5, 1.0, 'ROC curve'), Text(0.5, 0, 'FPR'), Text(0, 0.5, 'TPR')]"
      ]
     },
     "execution_count": 25,
     "metadata": {},
     "output_type": "execute_result"
    },
    {
     "data": {
      "image/png": "[encoded data removed]",
      "text/plain": [
       "<Figure size 576x396 with 2 Axes>"
      ]
     },
     "metadata": {},
     "output_type": "display_data"
    }
   ],
   "source": [
    "# sklearn的PR曲线和ROC曲线\n",
    "p1, p2, t1 = precision_recall_curve(y_test, sk_pre)\n",
    "r1, r2, t2 = roc_curve(y_test, sk_pre)\n",
    "fig = plt.figure()\n",
    "ax = fig.add_subplot(1, 2, 1)\n",
    "ax.plot(p2, p1)\n",
    "ax.set(title='P-R curve', xlabel='recall', ylabel='precise')\n",
    "ax = fig.add_subplot(1, 2, 2)\n",
    "ax.plot(r1, r2)\n",
    "ax.set(title='ROC curve', xlabel='FPR', ylabel='TPR')"
   ]
  },
  {
   "cell_type": "markdown",
   "id": "d8919661-5b67-4d13-8f72-63b3136309c5",
   "metadata": {},
   "source": [
    "### 可见和sklearn模型评分基本一致"
   ]
  },
  {
   "cell_type": "markdown",
   "id": "ac941989-cb9f-4e83-992d-eeae8a4c7742",
   "metadata": {},
   "source": [
    "## 检验不同batch size的影响"
   ]
  },
  {
   "cell_type": "code",
   "execution_count": 26,
   "id": "e28f26ec-3e02-46c0-a308-f36308dab1e2",
   "metadata": {},
   "outputs": [
    {
     "name": "stderr",
     "output_type": "stream",
     "text": [
      "D:\\MyWork\\python\\一轮考核-李龙\\LogisticRegression\\LR.py:61: RuntimeWarning: overflow encountered in exp\n",
      "  np.dot(self.x.T, (1 / (1 + np.exp(-np.dot(self.x, self.theta))) - self.y))\n"
     ]
    }
   ],
   "source": [
    "# 1个一组\n",
    "l1 = LogisticRegression(alpha=10, cycle=10)\n",
    "x = np.array(x_train)\n",
    "y = np.array(y_train)\n",
    "a = np.split(x, list(range(0, x_train.shape[0], 1)))\n",
    "b = np.split(y, list(range(0, y_train.shape[0], 1)))\n",
    "for i in range(len(a)-1):\n",
    "    if i == 0:\n",
    "        continue\n",
    "    l1.fit(a[i], b[i])\n",
    "p1 = l1.predict(x_test)"
   ]
  },
  {
   "cell_type": "code",
   "execution_count": 27,
   "id": "788bdcaa-df4d-45e9-9a97-8818588be511",
   "metadata": {},
   "outputs": [],
   "source": [
    "# 8个一组\n",
    "l2 = LogisticRegression(alpha=10, cycle=10)\n",
    "x = np.array(x_train)\n",
    "y = np.array(y_train)\n",
    "a = np.split(x, list(range(0, x_train.shape[0], 8)))\n",
    "b = np.split(y, list(range(0, y_train.shape[0], 8)))\n",
    "for i in range(len(a)-1):\n",
    "    if i == 0:\n",
    "        continue\n",
    "    l2.fit(a[i], b[i])\n",
    "p2 = l2.predict(x_test)"
   ]
  },
  {
   "cell_type": "code",
   "execution_count": 28,
   "id": "1193b3bb-8d35-47c4-abe5-5ecda72fa1db",
   "metadata": {},
   "outputs": [],
   "source": [
    "# 32个一组\n",
    "l3 = LogisticRegression(alpha=10, cycle=10)\n",
    "x = np.array(x_train)\n",
    "y = np.array(y_train)\n",
    "a = np.split(x, list(range(0, x_train.shape[0], 32)))\n",
    "b = np.split(y, list(range(0, y_train.shape[0], 32)))\n",
    "for i in range(len(a)-1):\n",
    "    if i == 0:\n",
    "        continue\n",
    "    l3.fit(a[i], b[i])\n",
    "p3 = l3.predict(x_test)"
   ]
  },
  {
   "cell_type": "code",
   "execution_count": 29,
   "id": "83154ffc-8634-4377-9608-c7c28f7ab99a",
   "metadata": {},
   "outputs": [],
   "source": [
    "# 64个一组\n",
    "l4 = LogisticRegression(alpha=10, cycle=10)\n",
    "x = np.array(x_train)\n",
    "y = np.array(y_train)\n",
    "a = np.split(x, list(range(0, x_train.shape[0], 64)))\n",
    "b = np.split(y, list(range(0, y_train.shape[0], 64)))\n",
    "for i in range(len(a)-1):\n",
    "    if i == 0:\n",
    "        continue\n",
    "    l4.fit(a[i], b[i])\n",
    "p4 = l4.predict(x_test)"
   ]
  },
  {
   "cell_type": "code",
   "execution_count": 30,
   "id": "18b42545-5d2b-42c1-b5db-eeab92d14319",
   "metadata": {},
   "outputs": [],
   "source": [
    "# 256个一组\n",
    "l5 = LogisticRegression(alpha=10, cycle=10)\n",
    "x = np.array(x_train)\n",
    "y = np.array(y_train)\n",
    "a = np.split(x, list(range(0, x_train.shape[0], 256)))\n",
    "b = np.split(y, list(range(0, y_train.shape[0], 256)))\n",
    "for i in range(len(a)-1):\n",
    "    if i == 0:\n",
    "        continue\n",
    "    l5.fit(a[i], b[i])\n",
    "p5 = l5.predict(x_test)"
   ]
  },
  {
   "cell_type": "code",
   "execution_count": 31,
   "id": "7c78e62a-0975-4e63-95b8-73a534e2a001",
   "metadata": {},
   "outputs": [],
   "source": [
    "# 1024个一组\n",
    "l6 = LogisticRegression(alpha=10, cycle=10)\n",
    "x = np.array(x_train)\n",
    "y = np.array(y_train)\n",
    "a = np.split(x, list(range(0, x_train.shape[0], 1024)))\n",
    "b = np.split(y, list(range(0, y_train.shape[0], 1024)))\n",
    "for i in range(len(a)-1):\n",
    "    if i == 0:\n",
    "        continue\n",
    "    l6.fit(a[i], b[i])\n",
    "p6 = l6.predict(x_test)"
   ]
  },
  {
   "cell_type": "markdown",
   "id": "48071b48-c532-4b7a-9b33-fa4eefe5b345",
   "metadata": {},
   "source": [
    "### 以下是相同学习率下的结果"
   ]
  },
  {
   "cell_type": "code",
   "execution_count": 32,
   "id": "d4b1dcf2-d68d-4048-84a8-42dc1a66940e",
   "metadata": {},
   "outputs": [
    {
     "name": "stdout",
     "output_type": "stream",
     "text": [
      "size    1: 0.9296286031042129\n",
      "size    8: 0.9289079822616408\n",
      "size   16: 0.931180709534368\n",
      "size   64: 0.9306541019955654\n",
      "size  256: 0.9312361419068736\n",
      "size 1024: 0.9327050997782705\n"
     ]
    }
   ],
   "source": [
    "sco1 = accuracy(y_test, p1)\n",
    "sco2 = accuracy(y_test, p2)\n",
    "sco3 = accuracy(y_test, p3)\n",
    "sco4 = accuracy(y_test, p4)\n",
    "sco5 = accuracy(y_test, p5)\n",
    "sco6 = accuracy(y_test, p6)\n",
    "print('size    1:',sco1)\n",
    "print('size    8:',sco2)\n",
    "print('size   16:',sco3)\n",
    "print('size   64:',sco4)\n",
    "print('size  256:',sco5)\n",
    "print('size 1024:',sco6)"
   ]
  },
  {
   "cell_type": "markdown",
   "id": "df61b1bd",
   "metadata": {},
   "source": [
    "# 决策树"
   ]
  },
  {
   "cell_type": "code",
   "execution_count": 33,
   "id": "c5a590f9",
   "metadata": {},
   "outputs": [],
   "source": [
    "# 进行数据处理, train和test 为训练集和测试集\n",
    "train = pd.concat([x_train, y_train], axis=1)\n",
    "test = pd.concat([x_test, y_test], axis=1)"
   ]
  },
  {
   "cell_type": "code",
   "execution_count": 34,
   "id": "8ead3cdb-faed-450f-b23f-16a1ff976561",
   "metadata": {},
   "outputs": [
    {
     "data": {
      "text/html": [
       "<div>\n",
       "<style scoped>\n",
       "    .dataframe tbody tr th:only-of-type {\n",
       "        vertical-align: middle;\n",
       "    }\n",
       "\n",
       "    .dataframe tbody tr th {\n",
       "        vertical-align: top;\n",
       "    }\n",
       "\n",
       "    .dataframe thead th {\n",
       "        text-align: right;\n",
       "    }\n",
       "</style>\n",
       "<table border=\"1\" class=\"dataframe\">\n",
       "  <thead>\n",
       "    <tr style=\"text-align: right;\">\n",
       "      <th></th>\n",
       "      <th>RevolvingUtilizationOfUnsecuredLines</th>\n",
       "      <th>NumberOfTime30-59DaysPastDueNotWorse</th>\n",
       "      <th>NumberOfTimes90DaysLate</th>\n",
       "      <th>NumberOfTime60-89DaysPastDueNotWorse</th>\n",
       "      <th>SeriousDlqin2yrs</th>\n",
       "    </tr>\n",
       "  </thead>\n",
       "  <tbody>\n",
       "    <tr>\n",
       "      <th>0</th>\n",
       "      <td>0.766127</td>\n",
       "      <td>2.0</td>\n",
       "      <td>0.0</td>\n",
       "      <td>0.0</td>\n",
       "      <td>1.0</td>\n",
       "    </tr>\n",
       "    <tr>\n",
       "      <th>1</th>\n",
       "      <td>0.658180</td>\n",
       "      <td>1.0</td>\n",
       "      <td>1.0</td>\n",
       "      <td>0.0</td>\n",
       "      <td>0.0</td>\n",
       "    </tr>\n",
       "    <tr>\n",
       "      <th>2</th>\n",
       "      <td>0.233810</td>\n",
       "      <td>0.0</td>\n",
       "      <td>0.0</td>\n",
       "      <td>0.0</td>\n",
       "      <td>0.0</td>\n",
       "    </tr>\n",
       "    <tr>\n",
       "      <th>3</th>\n",
       "      <td>0.907239</td>\n",
       "      <td>1.0</td>\n",
       "      <td>0.0</td>\n",
       "      <td>0.0</td>\n",
       "      <td>0.0</td>\n",
       "    </tr>\n",
       "    <tr>\n",
       "      <th>4</th>\n",
       "      <td>0.213179</td>\n",
       "      <td>0.0</td>\n",
       "      <td>0.0</td>\n",
       "      <td>0.0</td>\n",
       "      <td>0.0</td>\n",
       "    </tr>\n",
       "    <tr>\n",
       "      <th>5</th>\n",
       "      <td>0.754464</td>\n",
       "      <td>0.0</td>\n",
       "      <td>0.0</td>\n",
       "      <td>0.0</td>\n",
       "      <td>0.0</td>\n",
       "    </tr>\n",
       "    <tr>\n",
       "      <th>6</th>\n",
       "      <td>0.189169</td>\n",
       "      <td>0.0</td>\n",
       "      <td>0.0</td>\n",
       "      <td>0.0</td>\n",
       "      <td>0.0</td>\n",
       "    </tr>\n",
       "    <tr>\n",
       "      <th>7</th>\n",
       "      <td>0.644226</td>\n",
       "      <td>0.0</td>\n",
       "      <td>0.0</td>\n",
       "      <td>0.0</td>\n",
       "      <td>0.0</td>\n",
       "    </tr>\n",
       "    <tr>\n",
       "      <th>8</th>\n",
       "      <td>0.018798</td>\n",
       "      <td>0.0</td>\n",
       "      <td>0.0</td>\n",
       "      <td>0.0</td>\n",
       "      <td>0.0</td>\n",
       "    </tr>\n",
       "    <tr>\n",
       "      <th>9</th>\n",
       "      <td>0.010352</td>\n",
       "      <td>0.0</td>\n",
       "      <td>0.0</td>\n",
       "      <td>0.0</td>\n",
       "      <td>0.0</td>\n",
       "    </tr>\n",
       "  </tbody>\n",
       "</table>\n",
       "</div>"
      ],
      "text/plain": [
       "   RevolvingUtilizationOfUnsecuredLines  NumberOfTime30-59DaysPastDueNotWorse  \\\n",
       "0                              0.766127                                   2.0   \n",
       "1                              0.658180                                   1.0   \n",
       "2                              0.233810                                   0.0   \n",
       "3                              0.907239                                   1.0   \n",
       "4                              0.213179                                   0.0   \n",
       "5                              0.754464                                   0.0   \n",
       "6                              0.189169                                   0.0   \n",
       "7                              0.644226                                   0.0   \n",
       "8                              0.018798                                   0.0   \n",
       "9                              0.010352                                   0.0   \n",
       "\n",
       "   NumberOfTimes90DaysLate  NumberOfTime60-89DaysPastDueNotWorse  \\\n",
       "0                      0.0                                   0.0   \n",
       "1                      1.0                                   0.0   \n",
       "2                      0.0                                   0.0   \n",
       "3                      0.0                                   0.0   \n",
       "4                      0.0                                   0.0   \n",
       "5                      0.0                                   0.0   \n",
       "6                      0.0                                   0.0   \n",
       "7                      0.0                                   0.0   \n",
       "8                      0.0                                   0.0   \n",
       "9                      0.0                                   0.0   \n",
       "\n",
       "   SeriousDlqin2yrs  \n",
       "0               1.0  \n",
       "1               0.0  \n",
       "2               0.0  \n",
       "3               0.0  \n",
       "4               0.0  \n",
       "5               0.0  \n",
       "6               0.0  \n",
       "7               0.0  \n",
       "8               0.0  \n",
       "9               0.0  "
      ]
     },
     "execution_count": 34,
     "metadata": {},
     "output_type": "execute_result"
    }
   ],
   "source": [
    "train.head(10)"
   ]
  },
  {
   "cell_type": "markdown",
   "id": "fe87a0fc",
   "metadata": {},
   "source": [
    "### 接下来对连续性数据进行离散化处理，顺便剪枝"
   ]
  },
  {
   "cell_type": "code",
   "execution_count": 35,
   "id": "ec8d4281",
   "metadata": {},
   "outputs": [
    {
     "name": "stdout",
     "output_type": "stream",
     "text": [
      "count    84189.000000\n",
      "mean         0.326797\n",
      "std          0.346810\n",
      "min          0.000000\n",
      "25%          0.035472\n",
      "50%          0.177272\n",
      "75%          0.564290\n",
      "max          1.391015\n",
      "Name: RevolvingUtilizationOfUnsecuredLines, dtype: float64\n",
      "count    36080.000000\n",
      "mean         0.329896\n",
      "std          0.349372\n",
      "min          0.000000\n",
      "25%          0.034199\n",
      "50%          0.177282\n",
      "75%          0.576880\n",
      "max          1.395349\n",
      "Name: RevolvingUtilizationOfUnsecuredLines, dtype: float64\n"
     ]
    }
   ],
   "source": [
    "# 观察数据\n",
    "print(train['RevolvingUtilizationOfUnsecuredLines'].describe())\n",
    "print(test['RevolvingUtilizationOfUnsecuredLines'].describe())"
   ]
  },
  {
   "cell_type": "code",
   "execution_count": 36,
   "id": "b991ba42",
   "metadata": {},
   "outputs": [],
   "source": [
    "# 数据离散化处理\n",
    "train['RevolvingUtilizationOfUnsecuredLines'] = pp.Cut(train['RevolvingUtilizationOfUnsecuredLines'], \n",
    "                                                       bins=[-0.1, 0.04, 0.18, 0.58, 100], labels=False)\n",
    "test['RevolvingUtilizationOfUnsecuredLines'] = pp.Cut(test['RevolvingUtilizationOfUnsecuredLines'], \n",
    "                                                      bins=[-0.1, 0.04, 0.18, 0.58, 100], labels=False)"
   ]
  },
  {
   "cell_type": "code",
   "execution_count": 37,
   "id": "00257db2",
   "metadata": {},
   "outputs": [
    {
     "name": "stdout",
     "output_type": "stream",
     "text": [
      "0.0     70180\n",
      "1.0      9360\n",
      "2.0      2795\n",
      "3.0      1060\n",
      "4.0       435\n",
      "5.0       200\n",
      "6.0        91\n",
      "7.0        37\n",
      "8.0        16\n",
      "9.0         9\n",
      "12.0        2\n",
      "10.0        2\n",
      "11.0        1\n",
      "13.0        1\n",
      "Name: NumberOfTime30-59DaysPastDueNotWorse, dtype: int64\n",
      "0.0     29938\n",
      "1.0      4178\n",
      "2.0      1162\n",
      "3.0       465\n",
      "4.0       200\n",
      "5.0        84\n",
      "6.0        33\n",
      "7.0        11\n",
      "8.0         7\n",
      "9.0         1\n",
      "10.0        1\n",
      "Name: NumberOfTime30-59DaysPastDueNotWorse, dtype: int64\n"
     ]
    }
   ],
   "source": [
    "# 观察数据\n",
    "print(train['NumberOfTime30-59DaysPastDueNotWorse'].value_counts())\n",
    "print(test['NumberOfTime30-59DaysPastDueNotWorse'].value_counts())"
   ]
  },
  {
   "cell_type": "code",
   "execution_count": 38,
   "id": "bccc11b0",
   "metadata": {},
   "outputs": [],
   "source": [
    "# 数据离散化处理\n",
    "train['NumberOfTime30-59DaysPastDueNotWorse'] = pp.Cut(train['NumberOfTime30-59DaysPastDueNotWorse'], bins=[-0.1, 1, 6, 100], labels=False)\n",
    "test['NumberOfTime30-59DaysPastDueNotWorse'] = pp.Cut(test['NumberOfTime30-59DaysPastDueNotWorse'], bins=[-0.1, 1, 6, 100], labels=False)"
   ]
  },
  {
   "cell_type": "code",
   "execution_count": 39,
   "id": "230a925d",
   "metadata": {},
   "outputs": [
    {
     "name": "stdout",
     "output_type": "stream",
     "text": [
      "0.0     79591\n",
      "1.0      3029\n",
      "2.0       864\n",
      "3.0       374\n",
      "4.0       162\n",
      "5.0        70\n",
      "6.0        40\n",
      "7.0        20\n",
      "8.0        11\n",
      "9.0        10\n",
      "10.0        8\n",
      "13.0        3\n",
      "11.0        2\n",
      "12.0        2\n",
      "15.0        1\n",
      "14.0        1\n",
      "17.0        1\n",
      "Name: NumberOfTimes90DaysLate, dtype: int64\n",
      "0.0     34101\n",
      "1.0      1283\n",
      "2.0       370\n",
      "3.0       169\n",
      "4.0        79\n",
      "5.0        33\n",
      "6.0        22\n",
      "7.0         9\n",
      "8.0         5\n",
      "9.0         4\n",
      "11.0        2\n",
      "15.0        1\n",
      "14.0        1\n",
      "13.0        1\n",
      "Name: NumberOfTimes90DaysLate, dtype: int64\n"
     ]
    }
   ],
   "source": [
    "# 观察数据\n",
    "print(train['NumberOfTimes90DaysLate'].value_counts())\n",
    "print(test['NumberOfTimes90DaysLate'].value_counts())"
   ]
  },
  {
   "cell_type": "code",
   "execution_count": 40,
   "id": "68663e0e",
   "metadata": {},
   "outputs": [],
   "source": [
    "# 数据离散化处理\n",
    "train['NumberOfTimes90DaysLate'] = pp.Cut(train['NumberOfTimes90DaysLate'], bins=[-0.1, 1, 8, 100], labels=False)\n",
    "test['NumberOfTimes90DaysLate'] = pp.Cut(test['NumberOfTimes90DaysLate'], bins=[-0.1, 1, 8, 100], labels=False)"
   ]
  },
  {
   "cell_type": "code",
   "execution_count": 41,
   "id": "9bd187df",
   "metadata": {},
   "outputs": [
    {
     "name": "stdout",
     "output_type": "stream",
     "text": [
      "0.0     79935\n",
      "1.0      3353\n",
      "2.0       622\n",
      "3.0       175\n",
      "4.0        65\n",
      "5.0        20\n",
      "6.0        12\n",
      "7.0         4\n",
      "8.0         1\n",
      "11.0        1\n",
      "9.0         1\n",
      "Name: NumberOfTime60-89DaysPastDueNotWorse, dtype: int64\n",
      "0.0    34207\n",
      "1.0     1454\n",
      "2.0      290\n",
      "3.0       93\n",
      "4.0       20\n",
      "5.0        9\n",
      "6.0        4\n",
      "7.0        2\n",
      "8.0        1\n",
      "Name: NumberOfTime60-89DaysPastDueNotWorse, dtype: int64\n"
     ]
    }
   ],
   "source": [
    "# 观察数据\n",
    "print(train['NumberOfTime60-89DaysPastDueNotWorse'].value_counts())\n",
    "print(test['NumberOfTime60-89DaysPastDueNotWorse'].value_counts())"
   ]
  },
  {
   "cell_type": "code",
   "execution_count": 42,
   "id": "96f8c261",
   "metadata": {},
   "outputs": [],
   "source": [
    "# 数据离散化处理\n",
    "train['NumberOfTime60-89DaysPastDueNotWorse'] = pp.Cut(train['NumberOfTime60-89DaysPastDueNotWorse'], bins=[-0.1, 1, 4, 100], labels=False)\n",
    "test['NumberOfTime60-89DaysPastDueNotWorse'] = pp.Cut(test['NumberOfTime60-89DaysPastDueNotWorse'], bins=[-0.1, 1, 4, 100], labels=False)"
   ]
  },
  {
   "cell_type": "markdown",
   "id": "c1ee5425-3351-449d-979b-f45f714726a2",
   "metadata": {},
   "source": [
    "### 再次查看数据"
   ]
  },
  {
   "cell_type": "code",
   "execution_count": 43,
   "id": "d2fc790c",
   "metadata": {},
   "outputs": [
    {
     "data": {
      "text/html": [
       "<div>\n",
       "<style scoped>\n",
       "    .dataframe tbody tr th:only-of-type {\n",
       "        vertical-align: middle;\n",
       "    }\n",
       "\n",
       "    .dataframe tbody tr th {\n",
       "        vertical-align: top;\n",
       "    }\n",
       "\n",
       "    .dataframe thead th {\n",
       "        text-align: right;\n",
       "    }\n",
       "</style>\n",
       "<table border=\"1\" class=\"dataframe\">\n",
       "  <thead>\n",
       "    <tr style=\"text-align: right;\">\n",
       "      <th></th>\n",
       "      <th>RevolvingUtilizationOfUnsecuredLines</th>\n",
       "      <th>NumberOfTime30-59DaysPastDueNotWorse</th>\n",
       "      <th>NumberOfTimes90DaysLate</th>\n",
       "      <th>NumberOfTime60-89DaysPastDueNotWorse</th>\n",
       "      <th>SeriousDlqin2yrs</th>\n",
       "    </tr>\n",
       "  </thead>\n",
       "  <tbody>\n",
       "    <tr>\n",
       "      <th>0</th>\n",
       "      <td>3</td>\n",
       "      <td>1</td>\n",
       "      <td>0</td>\n",
       "      <td>0</td>\n",
       "      <td>1.0</td>\n",
       "    </tr>\n",
       "    <tr>\n",
       "      <th>1</th>\n",
       "      <td>3</td>\n",
       "      <td>0</td>\n",
       "      <td>0</td>\n",
       "      <td>0</td>\n",
       "      <td>0.0</td>\n",
       "    </tr>\n",
       "    <tr>\n",
       "      <th>2</th>\n",
       "      <td>2</td>\n",
       "      <td>0</td>\n",
       "      <td>0</td>\n",
       "      <td>0</td>\n",
       "      <td>0.0</td>\n",
       "    </tr>\n",
       "    <tr>\n",
       "      <th>3</th>\n",
       "      <td>3</td>\n",
       "      <td>0</td>\n",
       "      <td>0</td>\n",
       "      <td>0</td>\n",
       "      <td>0.0</td>\n",
       "    </tr>\n",
       "    <tr>\n",
       "      <th>4</th>\n",
       "      <td>2</td>\n",
       "      <td>0</td>\n",
       "      <td>0</td>\n",
       "      <td>0</td>\n",
       "      <td>0.0</td>\n",
       "    </tr>\n",
       "  </tbody>\n",
       "</table>\n",
       "</div>"
      ],
      "text/plain": [
       "   RevolvingUtilizationOfUnsecuredLines  NumberOfTime30-59DaysPastDueNotWorse  \\\n",
       "0                                     3                                     1   \n",
       "1                                     3                                     0   \n",
       "2                                     2                                     0   \n",
       "3                                     3                                     0   \n",
       "4                                     2                                     0   \n",
       "\n",
       "   NumberOfTimes90DaysLate  NumberOfTime60-89DaysPastDueNotWorse  \\\n",
       "0                        0                                     0   \n",
       "1                        0                                     0   \n",
       "2                        0                                     0   \n",
       "3                        0                                     0   \n",
       "4                        0                                     0   \n",
       "\n",
       "   SeriousDlqin2yrs  \n",
       "0               1.0  \n",
       "1               0.0  \n",
       "2               0.0  \n",
       "3               0.0  \n",
       "4               0.0  "
      ]
     },
     "execution_count": 43,
     "metadata": {},
     "output_type": "execute_result"
    }
   ],
   "source": [
    "train.head()"
   ]
  },
  {
   "cell_type": "code",
   "execution_count": 44,
   "id": "33175ff5",
   "metadata": {},
   "outputs": [
    {
     "data": {
      "text/html": [
       "<div>\n",
       "<style scoped>\n",
       "    .dataframe tbody tr th:only-of-type {\n",
       "        vertical-align: middle;\n",
       "    }\n",
       "\n",
       "    .dataframe tbody tr th {\n",
       "        vertical-align: top;\n",
       "    }\n",
       "\n",
       "    .dataframe thead th {\n",
       "        text-align: right;\n",
       "    }\n",
       "</style>\n",
       "<table border=\"1\" class=\"dataframe\">\n",
       "  <thead>\n",
       "    <tr style=\"text-align: right;\">\n",
       "      <th></th>\n",
       "      <th>RevolvingUtilizationOfUnsecuredLines</th>\n",
       "      <th>NumberOfTime30-59DaysPastDueNotWorse</th>\n",
       "      <th>NumberOfTimes90DaysLate</th>\n",
       "      <th>NumberOfTime60-89DaysPastDueNotWorse</th>\n",
       "      <th>SeriousDlqin2yrs</th>\n",
       "    </tr>\n",
       "  </thead>\n",
       "  <tbody>\n",
       "    <tr>\n",
       "      <th>0</th>\n",
       "      <td>2</td>\n",
       "      <td>0</td>\n",
       "      <td>0</td>\n",
       "      <td>0</td>\n",
       "      <td>0.0</td>\n",
       "    </tr>\n",
       "    <tr>\n",
       "      <th>1</th>\n",
       "      <td>1</td>\n",
       "      <td>0</td>\n",
       "      <td>0</td>\n",
       "      <td>0</td>\n",
       "      <td>0.0</td>\n",
       "    </tr>\n",
       "    <tr>\n",
       "      <th>2</th>\n",
       "      <td>3</td>\n",
       "      <td>0</td>\n",
       "      <td>0</td>\n",
       "      <td>0</td>\n",
       "      <td>0.0</td>\n",
       "    </tr>\n",
       "    <tr>\n",
       "      <th>3</th>\n",
       "      <td>0</td>\n",
       "      <td>0</td>\n",
       "      <td>0</td>\n",
       "      <td>0</td>\n",
       "      <td>0.0</td>\n",
       "    </tr>\n",
       "    <tr>\n",
       "      <th>4</th>\n",
       "      <td>2</td>\n",
       "      <td>1</td>\n",
       "      <td>0</td>\n",
       "      <td>0</td>\n",
       "      <td>0.0</td>\n",
       "    </tr>\n",
       "  </tbody>\n",
       "</table>\n",
       "</div>"
      ],
      "text/plain": [
       "   RevolvingUtilizationOfUnsecuredLines  NumberOfTime30-59DaysPastDueNotWorse  \\\n",
       "0                                     2                                     0   \n",
       "1                                     1                                     0   \n",
       "2                                     3                                     0   \n",
       "3                                     0                                     0   \n",
       "4                                     2                                     1   \n",
       "\n",
       "   NumberOfTimes90DaysLate  NumberOfTime60-89DaysPastDueNotWorse  \\\n",
       "0                        0                                     0   \n",
       "1                        0                                     0   \n",
       "2                        0                                     0   \n",
       "3                        0                                     0   \n",
       "4                        0                                     0   \n",
       "\n",
       "   SeriousDlqin2yrs  \n",
       "0               0.0  \n",
       "1               0.0  \n",
       "2               0.0  \n",
       "3               0.0  \n",
       "4               0.0  "
      ]
     },
     "execution_count": 44,
     "metadata": {},
     "output_type": "execute_result"
    }
   ],
   "source": [
    "test.head()"
   ]
  },
  {
   "cell_type": "markdown",
   "id": "46da4119",
   "metadata": {},
   "source": [
    "### 决策树（递归生成树，运行有点慢）"
   ]
  },
  {
   "cell_type": "code",
   "execution_count": 45,
   "id": "e3480921",
   "metadata": {
    "tags": []
   },
   "outputs": [],
   "source": [
    "# 模型引入\n",
    "tree1 = DecisionTree(mode='ID3')\n",
    "tree2 = DecisionTree(mode='C4.5')\n",
    "tree3 = DecisionTree(mode='CART')"
   ]
  },
  {
   "cell_type": "code",
   "execution_count": 46,
   "id": "ae8e4ae5",
   "metadata": {},
   "outputs": [
    {
     "name": "stderr",
     "output_type": "stream",
     "text": [
      "D:\\MyWork\\python\\一轮考核-李龙\\DecisionTree\\classfication.py:84: RuntimeWarning: invalid value encountered in double_scalars\n",
      "  gain_list.append((old_ent - new_ent) / _R)\n",
      "D:\\MyWork\\python\\一轮考核-李龙\\DecisionTree\\classfication.py:84: RuntimeWarning: invalid value encountered in double_scalars\n",
      "  gain_list.append((old_ent - new_ent) / _R)\n",
      "D:\\MyWork\\python\\一轮考核-李龙\\DecisionTree\\classfication.py:84: RuntimeWarning: invalid value encountered in double_scalars\n",
      "  gain_list.append((old_ent - new_ent) / _R)\n",
      "D:\\MyWork\\python\\一轮考核-李龙\\DecisionTree\\classfication.py:84: RuntimeWarning: invalid value encountered in double_scalars\n",
      "  gain_list.append((old_ent - new_ent) / _R)\n",
      "D:\\MyWork\\python\\一轮考核-李龙\\DecisionTree\\classfication.py:84: RuntimeWarning: invalid value encountered in double_scalars\n",
      "  gain_list.append((old_ent - new_ent) / _R)\n",
      "D:\\MyWork\\python\\一轮考核-李龙\\DecisionTree\\classfication.py:84: RuntimeWarning: invalid value encountered in double_scalars\n",
      "  gain_list.append((old_ent - new_ent) / _R)\n",
      "D:\\MyWork\\python\\一轮考核-李龙\\DecisionTree\\classfication.py:84: RuntimeWarning: invalid value encountered in double_scalars\n",
      "  gain_list.append((old_ent - new_ent) / _R)\n",
      "D:\\MyWork\\python\\一轮考核-李龙\\DecisionTree\\classfication.py:84: RuntimeWarning: invalid value encountered in double_scalars\n",
      "  gain_list.append((old_ent - new_ent) / _R)\n",
      "D:\\MyWork\\python\\一轮考核-李龙\\DecisionTree\\classfication.py:84: RuntimeWarning: invalid value encountered in double_scalars\n",
      "  gain_list.append((old_ent - new_ent) / _R)\n"
     ]
    }
   ],
   "source": [
    "tree1.fit(train)\n",
    "tree2.fit(train)\n",
    "tree3.fit(train)"
   ]
  },
  {
   "cell_type": "markdown",
   "id": "0e7f9c25",
   "metadata": {},
   "source": [
    "#### 此处C4.5有runningtime超时警告"
   ]
  },
  {
   "cell_type": "code",
   "execution_count": 47,
   "id": "768a6c0d",
   "metadata": {
    "tags": []
   },
   "outputs": [],
   "source": [
    "pre1 = []\n",
    "for i in range(test.shape[0]):\n",
    "    pre1.append(tree1.predict(test.iloc[i]))\n",
    "pre1 = np.array([pre1]).T"
   ]
  },
  {
   "cell_type": "code",
   "execution_count": 48,
   "id": "e8b8bef5",
   "metadata": {},
   "outputs": [],
   "source": [
    "pre2 = []\n",
    "for i in range(test.shape[0]):\n",
    "    pre2.append(tree2.predict(test.iloc[i]))\n",
    "pre2 = np.array([pre2]).T"
   ]
  },
  {
   "cell_type": "code",
   "execution_count": 49,
   "id": "58b1d0b1",
   "metadata": {},
   "outputs": [],
   "source": [
    "pre3 = []\n",
    "for i in range(test.shape[0]):\n",
    "    pre3.append(tree3.predict(test.iloc[i]))\n",
    "pre3 = np.array([pre3]).T"
   ]
  },
  {
   "cell_type": "code",
   "execution_count": 50,
   "id": "e96b1240",
   "metadata": {},
   "outputs": [
    {
     "name": "stdout",
     "output_type": "stream",
     "text": [
      "ID3  accuracy: 0.9289079822616408\n",
      "C4.5 accuracy: 0.9289079822616408\n",
      "CART accuracy: 0.9289079822616408\n"
     ]
    }
   ],
   "source": [
    "#准确性评分\n",
    "r1 = accuracy(y_test, pre1)\n",
    "r2 = accuracy(y_test, pre2)\n",
    "r3 = accuracy(y_test, pre3)\n",
    "print('ID3  accuracy:', r1)\n",
    "print('C4.5 accuracy:', r2)\n",
    "print('CART accuracy:', r3)"
   ]
  },
  {
   "cell_type": "code",
   "execution_count": 51,
   "id": "7fe6ea1b-3fa5-4a99-9752-3a1d6c67eacc",
   "metadata": {},
   "outputs": [
    {
     "data": {
      "text/plain": [
       "[Text(0.5, 1.0, 'ROC curve'), Text(0.5, 0, 'FPR'), Text(0, 0.5, 'TPR')]"
      ]
     },
     "execution_count": 51,
     "metadata": {},
     "output_type": "execute_result"
    },
    {
     "data": {
      "image/png": "[encoded data removed]",
      "text/plain": [
       "<Figure size 576x396 with 2 Axes>"
      ]
     },
     "metadata": {},
     "output_type": "display_data"
    }
   ],
   "source": [
    "precise1, recall1 = PR(y_test[:1000], pre1[:1000])\n",
    "FPR1, TPR1 = ROC(y_test[:1000], pre1[:1000])\n",
    "fig = plt.figure()\n",
    "ax = fig.add_subplot(1, 2, 1)\n",
    "ax.plot(recall1, precise1)\n",
    "ax.set(title='P-R curve', xlabel='recall', ylabel='precise')\n",
    "ax = fig.add_subplot(1, 2, 2)\n",
    "ax.plot(FPR1, TPR1)\n",
    "ax.set(title='ROC curve', xlabel='FPR', ylabel='TPR')"
   ]
  },
  {
   "cell_type": "markdown",
   "id": "495cacfc-78b8-4e34-9edf-29a0c2eabc05",
   "metadata": {},
   "source": [
    "#### 根据ROC曲线，这个决策树，跟瞎蒙没有什么区别"
   ]
  },
  {
   "cell_type": "markdown",
   "id": "c58123e8-7df5-4752-bd98-5e209f010a1d",
   "metadata": {},
   "source": [
    "### sklearn对比"
   ]
  },
  {
   "cell_type": "code",
   "execution_count": 52,
   "id": "938ca033-b1be-4f67-9157-440f64eef9d5",
   "metadata": {},
   "outputs": [],
   "source": [
    "from sklearn.tree import DecisionTreeClassifier"
   ]
  },
  {
   "cell_type": "code",
   "execution_count": 53,
   "id": "d3b1a1fe-2b34-464b-b59d-8c1d0e0d5a02",
   "metadata": {},
   "outputs": [],
   "source": [
    "tree = DecisionTreeClassifier()\n",
    "tree.fit(train.iloc[:, :-1], train.iloc[:, -1])\n",
    "tree_pre = tree.predict(test.iloc[:, :-1])"
   ]
  },
  {
   "cell_type": "code",
   "execution_count": 54,
   "id": "a0daba99-ab3f-4ba5-897a-868af2d14c9c",
   "metadata": {},
   "outputs": [
    {
     "name": "stdout",
     "output_type": "stream",
     "text": [
      "logistic_accuracy: 0.9307926829268293\n",
      "logistic_f1_score: 0.1617992614971467\n"
     ]
    }
   ],
   "source": [
    "# sklearn模型评估\n",
    "sk_a = accuracy_score(y_test, tree_pre)\n",
    "sk_f = f1_score(y_test, tree_pre)\n",
    "print('logistic_accuracy:', sk_a)\n",
    "print('logistic_f1_score:', sk_f)"
   ]
  },
  {
   "cell_type": "code",
   "execution_count": 55,
   "id": "00bc79e1-df0b-4e68-a210-ac2cc538fe5d",
   "metadata": {},
   "outputs": [
    {
     "data": {
      "text/plain": [
       "[Text(0.5, 1.0, 'ROC curve'), Text(0.5, 0, 'FPR'), Text(0, 0.5, 'TPR')]"
      ]
     },
     "execution_count": 55,
     "metadata": {},
     "output_type": "execute_result"
    },
    {
     "data": {
      "image/png": "[encoded data removed]",
      "text/plain": [
       "<Figure size 576x396 with 2 Axes>"
      ]
     },
     "metadata": {},
     "output_type": "display_data"
    }
   ],
   "source": [
    "# sklearn的PR曲线和ROC曲线\n",
    "p1, p2, t1 = precision_recall_curve(y_test, tree_pre)\n",
    "r1, r2, t2 = roc_curve(y_test, tree_pre)\n",
    "fig = plt.figure()\n",
    "ax = fig.add_subplot(1, 2, 1)\n",
    "ax.plot(p2, p1)\n",
    "ax.set(title='P-R curve', xlabel='recall', ylabel='precise')\n",
    "ax = fig.add_subplot(1, 2, 2)\n",
    "ax.plot(r1, r2)\n",
    "ax.set(title='ROC curve', xlabel='FPR', ylabel='TPR')"
   ]
  },
  {
   "cell_type": "markdown",
   "id": "eabc5bfd-1541-4124-8757-a3f0183c8888",
   "metadata": {},
   "source": [
    "### 可见逻辑回归效果要比决策树好"
   ]
  },
  {
   "cell_type": "markdown",
   "id": "d61247a3",
   "metadata": {},
   "source": [
    "# K近邻\n",
    "- 由于总是出现内存不足的memory error，所以更改原始数据的比例(减少50000为0的数据)"
   ]
  },
  {
   "cell_type": "code",
   "execution_count": 56,
   "id": "b22dfb06",
   "metadata": {},
   "outputs": [
    {
     "name": "stdout",
     "output_type": "stream",
     "text": [
      "1: 5792\n",
      "0: 78397\n"
     ]
    }
   ],
   "source": [
    "# 查看比例\n",
    "train = pd.concat([x_train, y_train], axis=1)\n",
    "print('1:', (train.iloc[:, -1] == 1).sum())\n",
    "print('0:', (train.iloc[:, -1] == 0).sum())"
   ]
  },
  {
   "cell_type": "code",
   "execution_count": 57,
   "id": "f3703797",
   "metadata": {},
   "outputs": [],
   "source": [
    "rand = np.random.choice((train.iloc[:, -1] == 0).sum(), size=50000, replace=False)\n",
    "copy = train.iloc[:, -1].copy()\n",
    "index = copy[copy == 0].index\n",
    "del_ind = index[rand]\n",
    "new_train = train.drop(del_ind)"
   ]
  },
  {
   "cell_type": "code",
   "execution_count": 58,
   "id": "02f1e0bf",
   "metadata": {},
   "outputs": [],
   "source": [
    "newy_train = new_train.iloc[:, [-1]]\n",
    "newx_train = new_train.drop(['SeriousDlqin2yrs'], axis=1)"
   ]
  },
  {
   "cell_type": "code",
   "execution_count": 59,
   "id": "441af88f",
   "metadata": {},
   "outputs": [
    {
     "name": "stdout",
     "output_type": "stream",
     "text": [
      "1: 5792\n",
      "0: 28397\n"
     ]
    }
   ],
   "source": [
    "# 查看比例\n",
    "print('1:', (new_train.iloc[:, -1] == 1).sum())\n",
    "print('0:', (new_train.iloc[:, -1] == 0).sum())"
   ]
  },
  {
   "cell_type": "code",
   "execution_count": 60,
   "id": "7c59949c",
   "metadata": {},
   "outputs": [],
   "source": [
    "k1 = KNN()\n",
    "k2 = KNN(p=1)\n",
    "k1.fit(newx_train, newy_train)\n",
    "k2.fit(newx_train, newy_train)\n",
    "pre1 = k1.predict(x_test.iloc[:5000])\n",
    "pre2 = k2.predict(x_test.iloc[:5000])"
   ]
  },
  {
   "cell_type": "markdown",
   "id": "f31b30a8",
   "metadata": {},
   "source": [
    "### 但因为训练集少了，最后结果也不够准确"
   ]
  },
  {
   "cell_type": "code",
   "execution_count": 61,
   "id": "f832b85a",
   "metadata": {},
   "outputs": [
    {
     "name": "stdout",
     "output_type": "stream",
     "text": [
      "欧式距离： 0.9256\n",
      "曼哈顿距离： 0.9264\n"
     ]
    }
   ],
   "source": [
    "y_test = np.array(y_test)\n",
    "print('欧式距离：', accuracy(y_test[:5000], pre1))\n",
    "print('曼哈顿距离：', accuracy(y_test[:5000], pre2))"
   ]
  },
  {
   "cell_type": "code",
   "execution_count": 62,
   "id": "1e12f590-4736-465e-b5ef-c987a69b9c52",
   "metadata": {},
   "outputs": [
    {
     "data": {
      "text/plain": [
       "[Text(0.5, 1.0, 'ROC curve'), Text(0.5, 0, 'FPR'), Text(0, 0.5, 'TPR')]"
      ]
     },
     "execution_count": 62,
     "metadata": {},
     "output_type": "execute_result"
    },
    {
     "data": {
      "image/png": "[encoded data removed]",
      "text/plain": [
       "<Figure size 576x396 with 2 Axes>"
      ]
     },
     "metadata": {},
     "output_type": "display_data"
    }
   ],
   "source": [
    "precise1, recall1 = PR(y_test[:5000], pre1)\n",
    "FPR1, TPR1 = ROC(y_test[:5000], pre1)\n",
    "fig = plt.figure()\n",
    "ax = fig.add_subplot(1, 2, 1)\n",
    "ax.plot(recall1, precise1)\n",
    "ax.set(title='P-R curve', xlabel='recall', ylabel='precise')\n",
    "ax = fig.add_subplot(1, 2, 2)\n",
    "ax.plot(FPR1, TPR1)\n",
    "ax.set(title='ROC curve', xlabel='FPR', ylabel='TPR')"
   ]
  },
  {
   "cell_type": "markdown",
   "id": "c00b2692-35d3-48ce-80e8-e6b4d4db208d",
   "metadata": {},
   "source": [
    "### 可见knn对于这份数据拟合效果不好"
   ]
  },
  {
   "cell_type": "markdown",
   "id": "1ff0a716-51ec-4c28-83ff-ec6ccdf06885",
   "metadata": {},
   "source": [
    "### sklearn对比"
   ]
  },
  {
   "cell_type": "code",
   "execution_count": 63,
   "id": "93e10ad0",
   "metadata": {},
   "outputs": [],
   "source": [
    "from sklearn.neighbors import KNeighborsClassifier"
   ]
  },
  {
   "cell_type": "code",
   "execution_count": 64,
   "id": "c7bd491d-acf2-4d9a-a51d-e1573849063d",
   "metadata": {},
   "outputs": [],
   "source": [
    "k = KNeighborsClassifier()\n",
    "k.fit(x_train, np.squeeze(y_train))\n",
    "k_pre = k.predict(x_test)"
   ]
  },
  {
   "cell_type": "code",
   "execution_count": 65,
   "id": "4241683c-2271-48c7-8e63-ca40454d26a7",
   "metadata": {},
   "outputs": [
    {
     "name": "stdout",
     "output_type": "stream",
     "text": [
      "logistic_accuracy: 0.9283536585365854\n",
      "logistic_f1_score: 0.2654163114521171\n"
     ]
    }
   ],
   "source": [
    "# sklearn模型评估\n",
    "k_a = accuracy_score(y_test, k_pre)\n",
    "k_f = f1_score(y_test, k_pre)\n",
    "print('logistic_accuracy:', k_a)\n",
    "print('logistic_f1_score:', k_f)"
   ]
  },
  {
   "cell_type": "code",
   "execution_count": 66,
   "id": "1631cd90-7107-44d8-b9c3-ecbc60b028f6",
   "metadata": {},
   "outputs": [
    {
     "data": {
      "text/plain": [
       "[Text(0.5, 1.0, 'ROC curve'), Text(0.5, 0, 'FPR'), Text(0, 0.5, 'TPR')]"
      ]
     },
     "execution_count": 66,
     "metadata": {},
     "output_type": "execute_result"
    },
    {
     "data": {
      "image/png": "[encoded data removed]",
      "text/plain": [
       "<Figure size 576x396 with 2 Axes>"
      ]
     },
     "metadata": {},
     "output_type": "display_data"
    }
   ],
   "source": [
    "# sklearn的PR曲线和ROC曲线\n",
    "p1, p2, t1 = precision_recall_curve(y_test, k_pre)\n",
    "r1, r2, t2 = roc_curve(y_test, k_pre)\n",
    "fig = plt.figure()\n",
    "ax = fig.add_subplot(1, 2, 1)\n",
    "ax.plot(p2, p1)\n",
    "ax.set(title='P-R curve', xlabel='recall', ylabel='precise')\n",
    "ax = fig.add_subplot(1, 2, 2)\n",
    "ax.plot(r1, r2)\n",
    "ax.set(title='ROC curve', xlabel='FPR', ylabel='TPR')"
   ]
  },
  {
   "cell_type": "code",
   "execution_count": 67,
   "id": "93df3f2d-2e3a-4236-9cbb-4d72cd00282a",
   "metadata": {},
   "outputs": [
    {
     "data": {
      "text/plain": [
       "0.9289079822616408"
      ]
     },
     "execution_count": 67,
     "metadata": {},
     "output_type": "execute_result"
    }
   ],
   "source": [
    "# 全选0的准确率\n",
    "accuracy(y_test, np.zeros(y_test.shape[0]))"
   ]
  },
  {
   "cell_type": "markdown",
   "id": "109f3606-61ee-41b0-af03-7f71f5c9a623",
   "metadata": {},
   "source": [
    "### 可见knn确实不适合拟合这个数据"
   ]
  },
  {
   "cell_type": "code",
   "execution_count": null,
   "id": "f570fbf0-dadc-4fe4-a4f6-e661888196fb",
   "metadata": {},
   "outputs": [],
   "source": []
  }
 ],
 "metadata": {
  "kernelspec": {
   "display_name": "machinelearning",
   "language": "python",
   "name": "machinelearning"
  },
  "language_info": {
   "codemirror_mode": {
    "name": "ipython",
    "version": 3
   },
   "file_extension": ".py",
   "mimetype": "text/x-python",
   "name": "python",
   "nbconvert_exporter": "python",
   "pygments_lexer": "ipython3",
   "version": "3.8.4"
  },
  "toc-autonumbering": false,
  "toc-showcode": false,
  "toc-showmarkdowntxt": true,
  "toc-showtags": false
 },
 "nbformat": 4,
 "nbformat_minor": 5
}
