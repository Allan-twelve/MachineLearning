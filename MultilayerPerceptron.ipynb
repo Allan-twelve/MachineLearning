{
 "cells": [
  {
   "cell_type": "markdown",
   "id": "3baa4991-a69e-40fe-8e95-6afc4d092440",
   "metadata": {},
   "source": [
    "## 多层感知机分类器（双层）"
   ]
  },
  {
   "cell_type": "code",
   "execution_count": 1,
   "id": "c2a6989e-0c5b-46e8-b146-49f745728059",
   "metadata": {},
   "outputs": [],
   "source": [
    "# 数据引入，sklearn手写数字数据集\n",
    "from sklearn.datasets import load_digits\n",
    "# 相关库引入\n",
    "from MultilayerPerceptron.BP import MLP\n",
    "from DataSet_tools.data_split import train_test_split\n",
    "from DataSet_tools.score import accuracy"
   ]
  },
  {
   "cell_type": "markdown",
   "id": "644bb53a-82aa-4658-87a4-5d5006ae6080",
   "metadata": {},
   "source": [
    "### 数据分割"
   ]
  },
  {
   "cell_type": "code",
   "execution_count": 2,
   "id": "e23c1de0-a050-420b-b8c7-0a5b0a7d818d",
   "metadata": {},
   "outputs": [],
   "source": [
    "data = load_digits()\n",
    "x = data.data\n",
    "y = data.target.reshape(-1, 1)\n",
    "x_train, x_test, y_train, y_test = train_test_split(x, y, 0.2)"
   ]
  },
  {
   "cell_type": "markdown",
   "id": "1d3a3d6b-c1fb-4d50-9d9b-8827bcd84087",
   "metadata": {},
   "source": [
    "### 模型训练"
   ]
  },
  {
   "cell_type": "code",
   "execution_count": 3,
   "id": "ffbe4d11-b78e-4ae3-ad40-e143b2740422",
   "metadata": {},
   "outputs": [],
   "source": [
    "# 因为有64个输入特征，所以隐藏层选择要大于64\n",
    "mlp = MLP(hidden=70)\n",
    "mlp.fit(x_train, y_train)"
   ]
  },
  {
   "cell_type": "markdown",
   "id": "d1f9a860-628e-4779-a318-0ebfea17ab9a",
   "metadata": {},
   "source": [
    "### 预测评估"
   ]
  },
  {
   "cell_type": "code",
   "execution_count": 4,
   "id": "8a3870a7-dd43-4404-885d-2fadf5817114",
   "metadata": {},
   "outputs": [
    {
     "data": {
      "text/plain": [
       "0.9749303621169917"
      ]
     },
     "execution_count": 4,
     "metadata": {},
     "output_type": "execute_result"
    }
   ],
   "source": [
    "y_pre = mlp.predict(x_test)\n",
    "accuracy(y_test, y_pre)"
   ]
  },
  {
   "cell_type": "markdown",
   "id": "9006fa8a-45bf-4987-b79c-cb2303d912a6",
   "metadata": {},
   "source": [
    "### sklearn对比"
   ]
  },
  {
   "cell_type": "code",
   "execution_count": 5,
   "id": "86cedd75-30e9-4f44-a7b3-27c6ef3f951e",
   "metadata": {},
   "outputs": [
    {
     "data": {
      "text/plain": [
       "0.9777158774373259"
      ]
     },
     "execution_count": 5,
     "metadata": {},
     "output_type": "execute_result"
    }
   ],
   "source": [
    "import numpy as np\n",
    "from sklearn.neural_network import MLPClassifier\n",
    "\n",
    "sk_mlp = MLPClassifier()\n",
    "sk_mlp.fit(x_train, np.squeeze(y_train))\n",
    "sk_pre = sk_mlp.predict(x_test)\n",
    "accuracy(y_test, sk_pre)"
   ]
  },
  {
   "cell_type": "code",
   "execution_count": null,
   "id": "1c2af326-0590-49f2-aa11-10846031c7d4",
   "metadata": {},
   "outputs": [],
   "source": []
  }
 ],
 "metadata": {
  "kernelspec": {
   "display_name": "machinelearning",
   "language": "python",
   "name": "machinelearning"
  },
  "language_info": {
   "codemirror_mode": {
    "name": "ipython",
    "version": 3
   },
   "file_extension": ".py",
   "mimetype": "text/x-python",
   "name": "python",
   "nbconvert_exporter": "python",
   "pygments_lexer": "ipython3",
   "version": "3.8.4"
  }
 },
 "nbformat": 4,
 "nbformat_minor": 5
}
