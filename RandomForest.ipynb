{
 "cells": [
  {
   "cell_type": "markdown",
   "id": "d1930f29-3c2f-4928-910a-914163d396df",
   "metadata": {},
   "source": [
    "## 随机森林"
   ]
  },
  {
   "cell_type": "code",
   "execution_count": 1,
   "id": "c89bead1-0738-4518-b8e2-0f51ed3f3976",
   "metadata": {},
   "outputs": [],
   "source": [
    "# 数据引入，sklearn鸢尾花数据集\n",
    "from sklearn.datasets import load_iris\n",
    "# 相关库引入\n",
    "import pandas as pd\n",
    "from RandomForest.forest import RandomForest\n",
    "from DataSet_tools.data_split import train_test_split\n",
    "from DataSet_tools.score import accuracy"
   ]
  },
  {
   "cell_type": "markdown",
   "id": "37d9246b-4626-48a3-ace6-bf3e9bc70eb2",
   "metadata": {},
   "source": [
    "### 数据分割"
   ]
  },
  {
   "cell_type": "markdown",
   "id": "62f0e76f-d145-4bda-9e02-e98a10cd121b",
   "metadata": {},
   "source": [
    "#### 这里将数据转换为整型，因为决策树处理不了连续型数据"
   ]
  },
  {
   "cell_type": "code",
   "execution_count": 2,
   "id": "f8d2df77-5d16-4a85-8c1b-527b617e24ac",
   "metadata": {},
   "outputs": [],
   "source": [
    "data = load_iris()\n",
    "x = pd.DataFrame(data.data.astype(int), columns=data.feature_names)\n",
    "y = pd.DataFrame(data.target.reshape(-1, 1), columns=['target'])\n",
    "x_train, x_test, y_train, y_test = train_test_split(x, y, 0.2)"
   ]
  },
  {
   "cell_type": "markdown",
   "id": "5e925c5e-b1b1-4040-a946-898849cf17e7",
   "metadata": {},
   "source": [
    "### 模型拟合"
   ]
  },
  {
   "cell_type": "code",
   "execution_count": 3,
   "id": "edb731f5-38c0-4faa-a0a1-a15903cd007d",
   "metadata": {
    "tags": []
   },
   "outputs": [],
   "source": [
    "rf = RandomForest()\n",
    "rf.fit(x_train, y_train)"
   ]
  },
  {
   "cell_type": "markdown",
   "id": "84c40bf7-9ef1-4aee-80fc-b90efcdd882e",
   "metadata": {},
   "source": [
    "### 预测评分"
   ]
  },
  {
   "cell_type": "code",
   "execution_count": 4,
   "id": "26f3f494-434c-4fbb-9c08-1393385c4376",
   "metadata": {
    "tags": []
   },
   "outputs": [
    {
     "data": {
      "text/plain": [
       "0.9333333333333333"
      ]
     },
     "execution_count": 4,
     "metadata": {},
     "output_type": "execute_result"
    }
   ],
   "source": [
    "y_pre = rf.predict(x_test)\n",
    "accuracy(y_test, y_pre)"
   ]
  },
  {
   "cell_type": "markdown",
   "id": "d6022204-3c4a-4d4c-9bf0-9ac0173694db",
   "metadata": {},
   "source": [
    "### 与决策树对比"
   ]
  },
  {
   "cell_type": "code",
   "execution_count": 5,
   "id": "688457d0-7278-4fa5-a85b-cabf198005ad",
   "metadata": {
    "tags": []
   },
   "outputs": [
    {
     "data": {
      "text/plain": [
       "0.9333333333333333"
      ]
     },
     "execution_count": 5,
     "metadata": {},
     "output_type": "execute_result"
    }
   ],
   "source": [
    "import numpy as np\n",
    "from RandomForest.decisionTree import DecisionTree\n",
    "\n",
    "dt = DecisionTree(mode=\"CART\")\n",
    "train = pd.concat([x_train, y_train], axis=1)\n",
    "dt.fit(train)\n",
    "pre = []\n",
    "for i in range(x_test.shape[0]):\n",
    "    pre.append(dt.predict(x_test.iloc[i]))\n",
    "accuracy(y_test, np.array(pre))"
   ]
  },
  {
   "cell_type": "markdown",
   "id": "eed583e0-3ae4-49c6-abbc-afe1784cb078",
   "metadata": {},
   "source": [
    "### sklearn决策树"
   ]
  },
  {
   "cell_type": "code",
   "execution_count": 6,
   "id": "ad8588b3-2877-4df4-b490-25226b2e15f7",
   "metadata": {
    "tags": []
   },
   "outputs": [
    {
     "data": {
      "text/plain": [
       "0.9333333333333333"
      ]
     },
     "execution_count": 6,
     "metadata": {},
     "output_type": "execute_result"
    }
   ],
   "source": [
    "from sklearn.tree import DecisionTreeClassifier\n",
    "\n",
    "sk_tree = DecisionTreeClassifier()\n",
    "sk_tree.fit(x_train, y_train)\n",
    "sk_tree_pre = sk_tree.predict(x_test)\n",
    "accuracy(y_test, sk_tree_pre)"
   ]
  },
  {
   "cell_type": "markdown",
   "id": "f2a1d0a6-503f-4e95-a2e6-69a2ba4e4a74",
   "metadata": {},
   "source": [
    "### sklearn随机森林"
   ]
  },
  {
   "cell_type": "code",
   "execution_count": 7,
   "id": "5f96b3dc-29da-40c0-8a0a-aebe6095ef94",
   "metadata": {
    "tags": []
   },
   "outputs": [
    {
     "name": "stderr",
     "output_type": "stream",
     "text": [
      "<ipython-input-7-b26b01414f2f>:4: DataConversionWarning: A column-vector y was passed when a 1d array was expected. Please change the shape of y to (n_samples,), for example using ravel().\n",
      "  sk_forest.fit(x_train, y_train)\n"
     ]
    },
    {
     "data": {
      "text/plain": [
       "0.9333333333333333"
      ]
     },
     "execution_count": 7,
     "metadata": {},
     "output_type": "execute_result"
    }
   ],
   "source": [
    "from sklearn.ensemble import RandomForestClassifier\n",
    "\n",
    "sk_forest = RandomForestClassifier()\n",
    "sk_forest.fit(x_train, y_train)\n",
    "sk_forest_pre = sk_forest.predict(x_test)\n",
    "accuracy(y_test, sk_forest_pre)"
   ]
  },
  {
   "cell_type": "code",
   "execution_count": null,
   "id": "7f92d51e-0ae9-4cb9-ae35-ad0b1475a4b3",
   "metadata": {},
   "outputs": [],
   "source": []
  }
 ],
 "metadata": {
  "kernelspec": {
   "display_name": "machinelearning",
   "language": "python",
   "name": "machinelearning"
  },
  "language_info": {
   "codemirror_mode": {
    "name": "ipython",
    "version": 3
   },
   "file_extension": ".py",
   "mimetype": "text/x-python",
   "name": "python",
   "nbconvert_exporter": "python",
   "pygments_lexer": "ipython3",
   "version": "3.8.4"
  }
 },
 "nbformat": 4,
 "nbformat_minor": 5
}
