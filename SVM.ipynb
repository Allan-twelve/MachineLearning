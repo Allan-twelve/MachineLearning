{
 "cells": [
  {
   "cell_type": "markdown",
   "id": "1a493605-2071-4c09-bfac-cc0fb0f072a0",
   "metadata": {},
   "source": [
    "## 支持向量机分类"
   ]
  },
  {
   "cell_type": "code",
   "execution_count": 1,
   "id": "a59cd4f9",
   "metadata": {},
   "outputs": [],
   "source": [
    "# 数据引入，sklearn的乳腺癌数据（因为SVM只能解决二分类问题）\n",
    "from sklearn.datasets import load_breast_cancer\n",
    "# 相关库引入\n",
    "import numpy as np\n",
    "from DataSet_tools.data_split import train_test_split\n",
    "from SupportVectorMachine.classification import SVM\n",
    "from DataSet_tools.score import accuracy"
   ]
  },
  {
   "cell_type": "markdown",
   "id": "4106dc0d-cd63-4d52-8132-25229c9ad52f",
   "metadata": {},
   "source": [
    "### 数据分割"
   ]
  },
  {
   "cell_type": "code",
   "execution_count": 2,
   "id": "d5ed4412-66d9-46d7-b008-9539492e6349",
   "metadata": {},
   "outputs": [],
   "source": [
    "data = load_breast_cancer()\n",
    "x = data.data\n",
    "y = data.target.reshape(-1, 1)\n",
    "y[y == 0] = -1\n",
    "x_train, x_test, y_train, y_test = train_test_split(x, y, 0.2)"
   ]
  },
  {
   "cell_type": "markdown",
   "id": "2f24cd45-c6c7-4ae7-b8eb-5046fa3e26c9",
   "metadata": {},
   "source": [
    "### 模型训练"
   ]
  },
  {
   "cell_type": "code",
   "execution_count": 3,
   "id": "0db83f0e-ce34-4d3b-a1bb-89953e4847ee",
   "metadata": {},
   "outputs": [],
   "source": [
    "svm = SVM()\n",
    "svm.fit(x_train, y_train)"
   ]
  },
  {
   "cell_type": "markdown",
   "id": "4472869c-decc-4793-acc5-1c5b6b9a4b7d",
   "metadata": {},
   "source": [
    "### 模型评分"
   ]
  },
  {
   "cell_type": "code",
   "execution_count": 4,
   "id": "e4755496-9dbc-4c67-85b5-2f978fd884a1",
   "metadata": {},
   "outputs": [
    {
     "data": {
      "text/plain": [
       "0.7345132743362832"
      ]
     },
     "execution_count": 4,
     "metadata": {},
     "output_type": "execute_result"
    }
   ],
   "source": [
    "my_pre = svm.predict(x_test)\n",
    "accuracy(y_test, my_pre)"
   ]
  },
  {
   "cell_type": "markdown",
   "id": "025175fd-09f1-4eaa-a6fb-0d77fe57a8dd",
   "metadata": {},
   "source": [
    "### sklearn对比"
   ]
  },
  {
   "cell_type": "code",
   "execution_count": 5,
   "id": "354cbdf2-fab3-414c-b337-fab7d5d94068",
   "metadata": {},
   "outputs": [
    {
     "name": "stderr",
     "output_type": "stream",
     "text": [
      "D:\\anaconda\\envs\\ml\\lib\\site-packages\\sklearn\\utils\\validation.py:63: DataConversionWarning: A column-vector y was passed when a 1d array was expected. Please change the shape of y to (n_samples, ), for example using ravel().\n",
      "  return f(*args, **kwargs)\n"
     ]
    },
    {
     "data": {
      "text/plain": [
       "0.9734513274336283"
      ]
     },
     "execution_count": 5,
     "metadata": {},
     "output_type": "execute_result"
    }
   ],
   "source": [
    "from sklearn.svm import SVC\n",
    "\n",
    "clf = SVC(kernel='linear')\n",
    "clf.fit(x_train, y_train)\n",
    "\n",
    "sk_pre = clf.predict(x_test)\n",
    "accuracy(y_test, sk_pre)"
   ]
  },
  {
   "cell_type": "code",
   "execution_count": null,
   "id": "22c04a65-57bb-49ec-9518-3b45dda08077",
   "metadata": {},
   "outputs": [],
   "source": []
  }
 ],
 "metadata": {
  "kernelspec": {
   "display_name": "machinelearning",
   "language": "python",
   "name": "machinelearning"
  },
  "language_info": {
   "codemirror_mode": {
    "name": "ipython",
    "version": 3
   },
   "file_extension": ".py",
   "mimetype": "text/x-python",
   "name": "python",
   "nbconvert_exporter": "python",
   "pygments_lexer": "ipython3",
   "version": "3.8.4"
  }
 },
 "nbformat": 4,
 "nbformat_minor": 5
}
